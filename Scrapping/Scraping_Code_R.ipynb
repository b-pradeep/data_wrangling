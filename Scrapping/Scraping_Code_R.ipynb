{
 "cells": [
  {
   "cell_type": "markdown",
   "metadata": {},
   "source": [
    "# This R notebook comtrains the code for API extraction"
   ]
  },
  {
   "cell_type": "code",
   "execution_count": null,
   "metadata": {},
   "outputs": [],
   "source": [
    "library(googleway)\n",
    "library(RCurl)\n",
    "library(RJSONIO)\n",
    "library(tibble)\n",
    "library(dplyr)\n",
    "library(httr)\n",
    "library(tidyverse)\n",
    "library(jsonlite)\n",
    "library(stringr)\n",
    "library(lubridate)\n",
    "library(DataCombine)\n"
   ]
  },
  {
   "cell_type": "code",
   "execution_count": 1,
   "metadata": {},
   "outputs": [],
   "source": [
    "#API key from google \n",
    "api_key <- 'KEY HERE'"
   ]
  },
  {
   "cell_type": "code",
   "execution_count": 2,
   "metadata": {},
   "outputs": [],
   "source": [
    "#part of URL to be called \n",
    "plcUrl <- \"https://maps.googleapis.com/maps/api/place/textsearch/json?query= \""
   ]
  },
  {
   "cell_type": "markdown",
   "metadata": {},
   "source": [
    "### The following code calls the url and extracts the data store it into the a dataframe"
   ]
  },
  {
   "cell_type": "code",
   "execution_count": null,
   "metadata": {},
   "outputs": [],
   "source": [
    "get_data<-function(api_key,page_token){\n",
    "  #change query to hospital or schools\n",
    "    query <-as.character(paste(\"Schools in\",city))\n",
    "  print(city)\n",
    "  plcUrl <- \"https://maps.googleapis.com/maps/api/place/textsearch/json?query= \"\n",
    "  #remove type=schools when extracting hospitals else it wont work\n",
    "  strurl <- as.character(paste(plcUrl ,query,\"&key=\",api_key,\"&type=school,primary_school,secondary_school\",sep=\"\"))\n",
    "  \n",
    "  \n",
    "  data <- fromJSON(URLencode(strurl))\n",
    "  \n",
    " \n",
    "  #status =OK means there are data extracted.\n",
    "  if (data$status == \"OK\"){\n",
    "      #update the page token\n",
    "    page_token <- data$next_page_token \n",
    "    df<-as.data.frame(data$results)\n",
    "    \n",
    "    lat <- split(data$results$geometry$location, seq(nrow(data$results$geometry$location)))\n",
    "    df$geometry <-lat\n",
    "    df$lat<-data$results$geometry$location$lat\n",
    "    df$long<-data$results$geometry$location$lng\n",
    "    df$city <- city\n",
    "    \n",
    "    openHours <- split(data$results$opening_hours, seq(nrow(data$results$opening_hours)))\n",
    "    df$opening_hours <-openHours\n",
    "    df$hours <- data$results$opening_hours\n",
    "    \n",
    "    plusCode <- split(data$results$plus_code, seq(nrow(data$results$plus_code)))\n",
    "    df$plus_code <-plusCode\n",
    "    print(nrow(loc_df))\n",
    "    \n",
    "    if(nrow(loc_df)==0){\n",
    "      loc_df<<-df\n",
    "      Sys.sleep(20)\n",
    "      \n",
    "    }else{\n",
    "      loc_df <<-InsertRow(loc_df,NewRow =df )\n",
    "      Sys.sleep(20)\n",
    "    }\n",
    "    page_token <- data$next_page_token \n",
    "    if(is.null(page_token)){\n",
    "      return (loc_df)\n",
    "    }else{\n",
    "        #pass new pagetoken to get next page\n",
    "    get_data(api_key,page_token)\n",
    "    }\n",
    "  }\n",
    "  else {\n",
    "    Sys.sleep(20)\n",
    "    get_data(api_key,page_token)\n",
    "  }\n",
    "  \n",
    "}\n"
   ]
  },
  {
   "cell_type": "code",
   "execution_count": null,
   "metadata": {},
   "outputs": [],
   "source": [
    "#The first call gives a null value for the page_token\n",
    "location_df <- get_data(api_key,\"\")\n",
    "View(location_df)"
   ]
  },
  {
   "cell_type": "code",
   "execution_count": null,
   "metadata": {},
   "outputs": [],
   "source": [
    "#remove the unwanted list data\n",
    "data_extracted <-  location_df%>%dplyr::select(-geometry,-opening_hours,-plus_code,-types,-photos)\n"
   ]
  },
  {
   "cell_type": "code",
   "execution_count": null,
   "metadata": {},
   "outputs": [],
   "source": [
    "#store each city with the file name exptention\n",
    "file <- paste(as.character(paste(\"schools_\", city, \".csv\", sep=\"\")))\n",
    "write.csv(data_extracted, file)\n"
   ]
  }
 ],
 "metadata": {
  "kernelspec": {
   "display_name": "R",
   "language": "R",
   "name": "ir"
  },
  "language_info": {
   "codemirror_mode": "r",
   "file_extension": ".r",
   "mimetype": "text/x-r-source",
   "name": "R",
   "pygments_lexer": "r",
   "version": "3.6.0"
  }
 },
 "nbformat": 4,
 "nbformat_minor": 2
}
