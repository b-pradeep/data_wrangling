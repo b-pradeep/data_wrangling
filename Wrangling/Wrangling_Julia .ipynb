{
 "cells": [
  {
   "cell_type": "code",
   "execution_count": 1,
   "metadata": {},
   "outputs": [],
   "source": [
    "using Pkg\n"
   ]
  },
  {
   "cell_type": "code",
   "execution_count": 2,
   "metadata": {},
   "outputs": [
    {
     "name": "stderr",
     "output_type": "stream",
     "text": [
      "┌ Info: Recompiling stale cache file C:\\Users\\vijee\\.julia\\compiled\\v1.1\\DataFrames\\AR9oZ.ji for DataFrames [a93c6f00-e57d-5684-b7b6-d8193f3e46c0]\n",
      "└ @ Base loading.jl:1184\n",
      "┌ Info: Recompiling stale cache file C:\\Users\\vijee\\.julia\\compiled\\v1.1\\CSV\\HHBkp.ji for CSV [336ed68f-0bac-5ca0-87d4-7b16caf5d00b]\n",
      "└ @ Base loading.jl:1184\n"
     ]
    }
   ],
   "source": [
    "using DataFrames, Dates, CSV"
   ]
  },
  {
   "cell_type": "code",
   "execution_count": 3,
   "metadata": {},
   "outputs": [
    {
     "name": "stdout",
     "output_type": "stream",
     "text": [
      "\u001b[32m\u001b[1m  Updating\u001b[22m\u001b[39m registry at `C:\\Users\\vijee\\.julia\\registries\\General`\n",
      "\u001b[32m\u001b[1m  Updating\u001b[22m\u001b[39m git-repo `https://github.com/JuliaRegistries/General.git`\n",
      "\u001b[?25l\u001b[2K\u001b[?25h\u001b[32m\u001b[1m Resolving\u001b[22m\u001b[39m package versions...\n",
      "\u001b[32m\u001b[1m  Updating\u001b[22m\u001b[39m `C:\\Users\\vijee\\.julia\\environments\\v1.1\\Project.toml`\n",
      "\u001b[90m [no changes]\u001b[39m\n",
      "\u001b[32m\u001b[1m  Updating\u001b[22m\u001b[39m `C:\\Users\\vijee\\.julia\\environments\\v1.1\\Manifest.toml`\n",
      "\u001b[90m [no changes]\u001b[39m\n"
     ]
    }
   ],
   "source": [
    "#Pkg.add(\"StatsBase\")"
   ]
  },
  {
   "cell_type": "code",
   "execution_count": 12,
   "metadata": {},
   "outputs": [
    {
     "data": {
      "text/plain": [
       "15-element Array{DataFrame,1}:\n",
       " 60×12 DataFrame. Omitted printing of 10 columns\n",
       "│ Row │ x      │ formatted_address                                           │\n",
       "│     │ \u001b[90mInt64⍰\u001b[39m │ \u001b[90mUnion{Missing, String}\u001b[39m                                      │\n",
       "├─────┼────────┼─────────────────────────────────────────────────────────────┤\n",
       "│ 1   │ 1      │ 5 Helios Pl, Titirangi, Auckland 0604, New Zealand          │\n",
       "│ 2   │ 2      │ 360 Albany Hwy, Albany, Auckland 0632, New Zealand          │\n",
       "│ 3   │ 3      │ Clyde St, Epsom, Auckland 1051, New Zealand                 │\n",
       "│ 4   │ 4      │ 536 Albany Hwy, Albany, Auckland 0632, New Zealand          │\n",
       "│ 5   │ 5      │ 37 Heaphy St, Blockhouse Bay, Auckland 0600, New Zealand    │\n",
       "│ 6   │ 6      │ 122 Market Rd, Epsom, Auckland 1051, New Zealand            │\n",
       "│ 7   │ 7      │ 27 Esplanade Rd, Mount Eden, Auckland 1024, New Zealand     │\n",
       "│ 8   │ 8      │ 39 Somerville Rd, Somerville, Auckland 2014, New Zealand    │\n",
       "│ 9   │ 9      │ 258 Remuera Road, Remuera, Auckland 1050, New Zealand       │\n",
       "│ 10  │ 10     │ 55-87 Mountain Rd, Epsom, Auckland 1023, New Zealand        │\n",
       "⋮\n",
       "│ 50  │ 50     │ 140 Birkdale Rd, Birkdale, Auckland 0626, New Zealand       │\n",
       "│ 51  │ 51     │ 34 Shakespeare Rd, Milford, Auckland 0620, New Zealand      │\n",
       "│ 52  │ 52     │ 564 E Coast Rd, Mairangi Bay, Auckland 0630, New Zealand    │\n",
       "│ 53  │ 53     │ 29 Rathgar Rd, Henderson, Auckland 0610, New Zealand        │\n",
       "│ 54  │ 54     │ 26 Northcote Rd, Takapuna, Auckland 0622, New Zealand       │\n",
       "│ 55  │ 55     │ Silver Rd, Epsom, Auckland 1023, New Zealand                │\n",
       "│ 56  │ 56     │ 274 Don Buck Rd, Massey, Auckland 0614, New Zealand         │\n",
       "│ 57  │ 57     │ 16 Howe St, Freemans Bay, Auckland 1011, New Zealand        │\n",
       "│ 58  │ 58     │ Waiake, Auckland 0630, New Zealand                          │\n",
       "│ 59  │ 59     │ 100 Motions Rd, Western Springs, Auckland 1022, New Zealand │\n",
       "│ 60  │ 60     │ Frost Rd, Mount Roskill, Auckland 1041, New Zealand         │                                                \n",
       " 60×12 DataFrame. Omitted printing of 11 columns\n",
       "│ Row │ x      │\n",
       "│     │ \u001b[90mInt64⍰\u001b[39m │\n",
       "├─────┼────────┤\n",
       "│ 1   │ 1      │\n",
       "│ 2   │ 2      │\n",
       "│ 3   │ 3      │\n",
       "│ 4   │ 4      │\n",
       "│ 5   │ 5      │\n",
       "│ 6   │ 6      │\n",
       "│ 7   │ 7      │\n",
       "│ 8   │ 8      │\n",
       "│ 9   │ 9      │\n",
       "│ 10  │ 10     │\n",
       "⋮\n",
       "│ 50  │ 50     │\n",
       "│ 51  │ 51     │\n",
       "│ 52  │ 52     │\n",
       "│ 53  │ 53     │\n",
       "│ 54  │ 54     │\n",
       "│ 55  │ 55     │\n",
       "│ 56  │ 56     │\n",
       "│ 57  │ 57     │\n",
       "│ 58  │ 58     │\n",
       "│ 59  │ 59     │\n",
       "│ 60  │ 60     │                                                                                                                                                                                                                                                                                                                                                                                                                                                                                                                                                                                                                                                                                                                                                                                                                                                                                                                                                                                                                                                                                                                                                                                                                                                                                                                                                                                                                                                                                                                                                                                                          \n",
       " 60×12 DataFrame. Omitted printing of 10 columns\n",
       "│ Row │ x      │ formatted_address                                           │\n",
       "│     │ \u001b[90mInt64⍰\u001b[39m │ \u001b[90mUnion{Missing, String}\u001b[39m                                      │\n",
       "├─────┼────────┼─────────────────────────────────────────────────────────────┤\n",
       "│ 1   │ 1      │ 2 Arthur St, Dunedin, 9016, New Zealand                     │\n",
       "│ 2   │ 2      │ 2 Shore St, Andersons Bay, Dunedin 9013, New Zealand        │\n",
       "│ 3   │ 3      │ 2 Pilkington St, Maori Hill, Dunedin 9010, New Zealand      │\n",
       "│ 4   │ 4      │ 74 Butts Rd, North Dunedin, Dunedin 9016, New Zealand       │\n",
       "│ 5   │ 5      │ 41 Tennyson St, Dunedin, 9016, New Zealand                  │\n",
       "│ 6   │ 6      │ 500 Kaikorai Valley Rd, Bradford, Dunedin 9011, New Zealand │\n",
       "│ 7   │ 7      │ 989 George St, North Dunedin, Woodhaugh 9016, New Zealand   │\n",
       "│ 8   │ 8      │ 26 Arthur St, Dunedin, 9016, New Zealand                    │\n",
       "│ 9   │ 9      │ 10 Sickels St, Fairfield, Dunedin 9018, New Zealand         │\n",
       "│ 10  │ 10     │ 2 Mercer Street, Balaclava, Dunedin 9011, New Zealand       │\n",
       "⋮\n",
       "│ 50  │ 50     │ 10 Sickels St, Fairfield, Dunedin 9018, New Zealand         │\n",
       "│ 51  │ 51     │ 2 Cobden St, Dunedin, 9016, New Zealand                     │\n",
       "│ 52  │ 52     │ 34 Elgin Rd, Mornington, Dunedin 9011, New Zealand          │\n",
       "│ 53  │ 53     │ 9 Passmore Cres, Maori Hill, Dunedin 9010, New Zealand      │\n",
       "│ 54  │ 54     │ 1 Fern Rd, Maia, Dunedin 9022, New Zealand                  │\n",
       "│ 55  │ 55     │ 22 Tyne St, Kaikorai, Dunedin 1090, New Zealand             │\n",
       "│ 56  │ 56     │ 135 Richardson St, St Clair, Dunedin 9012, New Zealand      │\n",
       "│ 57  │ 57     │ 43 Elm Row, Dunedin, 9016, New Zealand                      │\n",
       "│ 58  │ 58     │ 195 Surrey St, St Clair, Dunedin 9012, New Zealand          │\n",
       "│ 59  │ 59     │ 270 Bay View Rd, South Dunedin, Dunedin 9012, New Zealand   │\n",
       "│ 60  │ 60     │ 5 Hillary St, Liberton, Dunedin 9010, New Zealand           │                                                \n",
       " 60×12 DataFrame. Omitted printing of 11 columns\n",
       "│ Row │ x      │\n",
       "│     │ \u001b[90mInt64⍰\u001b[39m │\n",
       "├─────┼────────┤\n",
       "│ 1   │ 1      │\n",
       "│ 2   │ 2      │\n",
       "│ 3   │ 3      │\n",
       "│ 4   │ 4      │\n",
       "│ 5   │ 5      │\n",
       "│ 6   │ 6      │\n",
       "│ 7   │ 7      │\n",
       "│ 8   │ 8      │\n",
       "│ 9   │ 9      │\n",
       "│ 10  │ 10     │\n",
       "⋮\n",
       "│ 50  │ 50     │\n",
       "│ 51  │ 51     │\n",
       "│ 52  │ 52     │\n",
       "│ 53  │ 53     │\n",
       "│ 54  │ 54     │\n",
       "│ 55  │ 55     │\n",
       "│ 56  │ 56     │\n",
       "│ 57  │ 57     │\n",
       "│ 58  │ 58     │\n",
       "│ 59  │ 59     │\n",
       "│ 60  │ 60     │                                                                                                                                                                                                                                                                                                                                                                                                                                                                                                                                                                                                                                                                                                                                                                                                                                                                                                                                                                                                                                                                                                                                                                                                                                                                                                                                                                                                                                                                                                                                                                                                          \n",
       " 60×12 DataFrame. Omitted printing of 11 columns\n",
       "│ Row │ x      │\n",
       "│     │ \u001b[90mInt64⍰\u001b[39m │\n",
       "├─────┼────────┤\n",
       "│ 1   │ 1      │\n",
       "│ 2   │ 2      │\n",
       "│ 3   │ 3      │\n",
       "│ 4   │ 4      │\n",
       "│ 5   │ 5      │\n",
       "│ 6   │ 6      │\n",
       "│ 7   │ 7      │\n",
       "│ 8   │ 8      │\n",
       "│ 9   │ 9      │\n",
       "│ 10  │ 10     │\n",
       "⋮\n",
       "│ 50  │ 50     │\n",
       "│ 51  │ 51     │\n",
       "│ 52  │ 52     │\n",
       "│ 53  │ 53     │\n",
       "│ 54  │ 54     │\n",
       "│ 55  │ 55     │\n",
       "│ 56  │ 56     │\n",
       "│ 57  │ 57     │\n",
       "│ 58  │ 58     │\n",
       "│ 59  │ 59     │\n",
       "│ 60  │ 60     │                                                                                                                                                                                                                                                                                                                                                                                                                                                                                                                                                                                                                                                                                                                                                                                                                                                                                                                                                                                                                                                                                                                                                                                                                                                                                                                                                                                                                                                                                                                                                                                                          \n",
       " 60×12 DataFrame. Omitted printing of 11 columns\n",
       "│ Row │ x      │\n",
       "│     │ \u001b[90mInt64⍰\u001b[39m │\n",
       "├─────┼────────┤\n",
       "│ 1   │ 1      │\n",
       "│ 2   │ 2      │\n",
       "│ 3   │ 3      │\n",
       "│ 4   │ 4      │\n",
       "│ 5   │ 5      │\n",
       "│ 6   │ 6      │\n",
       "│ 7   │ 7      │\n",
       "│ 8   │ 8      │\n",
       "│ 9   │ 9      │\n",
       "│ 10  │ 10     │\n",
       "⋮\n",
       "│ 50  │ 50     │\n",
       "│ 51  │ 51     │\n",
       "│ 52  │ 52     │\n",
       "│ 53  │ 53     │\n",
       "│ 54  │ 54     │\n",
       "│ 55  │ 55     │\n",
       "│ 56  │ 56     │\n",
       "│ 57  │ 57     │\n",
       "│ 58  │ 58     │\n",
       "│ 59  │ 59     │\n",
       "│ 60  │ 60     │                                                                                                                                                                                                                                                                                                                                                                                                                                                                                                                                                                                                                                                                                                                                                                                                                                                                                                                                                                                                                                                                                                                                                                                                                                                                                                                                                                                                                                                                                                                                                                                                          \n",
       " 60×12 DataFrame. Omitted printing of 10 columns\n",
       "│ Row │ x      │ formatted_address                                          │\n",
       "│     │ \u001b[90mInt64⍰\u001b[39m │ \u001b[90mUnion{Missing, String}\u001b[39m                                     │\n",
       "├─────┼────────┼────────────────────────────────────────────────────────────┤\n",
       "│ 1   │ 1      │ Clyde Rd, Bluff Hill, Napier 4110, New Zealand             │\n",
       "│ 2   │ 2      │ Chambers St, Te Awa, Napier 4110, New Zealand              │\n",
       "│ 3   │ 3      │ 50 Murphy Rd, Taradale, Napier 4112, New Zealand           │\n",
       "│ 4   │ 4      │ 61 Freyberg Ave, Tamatea, Napier 4112, New Zealand         │\n",
       "│ 5   │ 5      │ 21 Arnold St, Onekawa, Napier 4110, New Zealand            │\n",
       "│ 6   │ 6      │ 22 Wycliffe St, Onekawa, Napier 4112, New Zealand          │\n",
       "│ 7   │ 7      │ 10 Church Rd, Taradale, Napier 4112, New Zealand           │\n",
       "│ 8   │ 8      │ 21 Fryer Rd, Poraiti, Mission View 4182, New Zealand       │\n",
       "│ 9   │ 9      │ 501 Gloucester St, Taradale, Napier 4112, New Zealand      │\n",
       "│ 10  │ 10     │ Convent Rd, Bluff Hill, Napier 4110, New Zealand           │\n",
       "⋮\n",
       "│ 50  │ 50     │ 480 Gloucester St, Taradale, Napier 4112, New Zealand      │\n",
       "│ 51  │ 51     │ 429A Gloucester St, Taradale, Napier 4112, New Zealand     │\n",
       "│ 52  │ 52     │ 90-B Atherfold Cre, Greenmeadows, Napier 4112, New Zealand │\n",
       "│ 53  │ 53     │ 21 Riverbend Rd, Onekawa, Napier 4110, New Zealand         │\n",
       "│ 54  │ 54     │ 13A Barnard Ave, Maraenui, Napier 4110, New Zealand        │\n",
       "│ 55  │ 55     │ 19A Peddie St, Taradale, Napier 4112, New Zealand          │\n",
       "│ 56  │ 56     │ 708 Puketapu Rd, Puketapu 4183, New Zealand                │\n",
       "│ 57  │ 57     │ 2A Bedford Rd, Marewa, Napier 4110, New Zealand            │\n",
       "│ 58  │ 58     │ Osier Rd, Greenmeadows, Napier 4112, New Zealand           │\n",
       "│ 59  │ 59     │ 421 Gloucester St, Taradale, Napier 4112, New Zealand      │\n",
       "│ 60  │ 60     │ Essex St, Tamatea, Napier 4112, New Zealand                │                                                                        \n",
       " 60×12 DataFrame. Omitted printing of 10 columns\n",
       "│ Row │ x      │ formatted_address                                      │\n",
       "│     │ \u001b[90mInt64⍰\u001b[39m │ \u001b[90mUnion{Missing, String}\u001b[39m                                 │\n",
       "├─────┼────────┼────────────────────────────────────────────────────────┤\n",
       "│ 1   │ 1      │ 70 Nile St, Nelson, 7010, New Zealand                  │\n",
       "│ 2   │ 2      │ 67 Waimea Rd, Nelson South, Nelson 7010, New Zealand   │\n",
       "│ 3   │ 3      │ 601 Main Rd, Stoke, Nelson 7011, New Zealand           │\n",
       "│ 4   │ 4      │ 250 Hampden St, Nelson South, Nelson 7010, New Zealand │\n",
       "│ 5   │ 5      │ 111 Haven Rd, Stepneyville, Nelson 7010, New Zealand   │\n",
       "│ 6   │ 6      │ 112 Tipahi St, Nelson South, Nelson 7010, New Zealand  │\n",
       "│ 7   │ 7      │ 69 Muritai St, Tahunanui, Nelson 7011, New Zealand     │\n",
       "│ 8   │ 8      │ 15 Durham St, Stoke, Nelson 7011, New Zealand          │\n",
       "│ 9   │ 9      │ 10 The Ridgeway, Wakatu, Nelson 7011, New Zealand      │\n",
       "│ 10  │ 10     │ Stoke, Nayland 7011, New Zealand                       │\n",
       "⋮\n",
       "│ 50  │ 50     │ Atawhai, Nelson 7010, New Zealand                      │\n",
       "│ 51  │ 51     │ 55 Nile St, Nelson, 7010, New Zealand                  │\n",
       "│ 52  │ 52     │ 150 Tahunanui Dr, Tahunanui, Nelson 7011, New Zealand  │\n",
       "│ 53  │ 53     │ 112 Parkers Rd, Tahunanui, Nelson 7011, New Zealand    │\n",
       "│ 54  │ 54     │ 69 Muritai St, Tahunanui, Nelson 7011, New Zealand     │\n",
       "│ 55  │ 55     │ Buxton St, Stoke, Nelson 7010, New Zealand             │\n",
       "│ 56  │ 56     │ 311 Seaview Rd, Stoke, Nelson 7011, New Zealand        │\n",
       "│ 57  │ 57     │ 9 Tarata St, Stoke, Nelson 7011, New Zealand           │\n",
       "│ 58  │ 58     │ 67 Waimea Rd, Nelson South, Nelson 7010, New Zealand   │\n",
       "│ 59  │ 59     │ 76A Waimea Rd, Nelson South, Nelson 7010, New Zealand  │\n",
       "│ 60  │ 60     │ 17 Flaxmore Pl, Bishopdale, Nelson 7011, New Zealand   │                                                                                                                                                                        \n",
       " 60×12 DataFrame. Omitted printing of 11 columns\n",
       "│ Row │ x      │\n",
       "│     │ \u001b[90mInt64⍰\u001b[39m │\n",
       "├─────┼────────┤\n",
       "│ 1   │ 1      │\n",
       "│ 2   │ 2      │\n",
       "│ 3   │ 3      │\n",
       "│ 4   │ 4      │\n",
       "│ 5   │ 5      │\n",
       "│ 6   │ 6      │\n",
       "│ 7   │ 7      │\n",
       "│ 8   │ 8      │\n",
       "│ 9   │ 9      │\n",
       "│ 10  │ 10     │\n",
       "⋮\n",
       "│ 50  │ 50     │\n",
       "│ 51  │ 51     │\n",
       "│ 52  │ 52     │\n",
       "│ 53  │ 53     │\n",
       "│ 54  │ 54     │\n",
       "│ 55  │ 55     │\n",
       "│ 56  │ 56     │\n",
       "│ 57  │ 57     │\n",
       "│ 58  │ 58     │\n",
       "│ 59  │ 59     │\n",
       "│ 60  │ 60     │                                                                                                                                                                                                                                                                                                                                                                                                                                                                                                                                                                                                                                                                                                                                                                                                                                                                                                                                                                                                                                                                                                                                                                                                                                                                                                                                                                                                                                                                                                                                                                                                          \n",
       " 60×12 DataFrame. Omitted printing of 11 columns\n",
       "│ Row │ x      │\n",
       "│     │ \u001b[90mInt64⍰\u001b[39m │\n",
       "├─────┼────────┤\n",
       "│ 1   │ 1      │\n",
       "│ 2   │ 2      │\n",
       "│ 3   │ 3      │\n",
       "│ 4   │ 4      │\n",
       "│ 5   │ 5      │\n",
       "│ 6   │ 6      │\n",
       "│ 7   │ 7      │\n",
       "│ 8   │ 8      │\n",
       "│ 9   │ 9      │\n",
       "│ 10  │ 10     │\n",
       "⋮\n",
       "│ 50  │ 50     │\n",
       "│ 51  │ 51     │\n",
       "│ 52  │ 52     │\n",
       "│ 53  │ 53     │\n",
       "│ 54  │ 54     │\n",
       "│ 55  │ 55     │\n",
       "│ 56  │ 56     │\n",
       "│ 57  │ 57     │\n",
       "│ 58  │ 58     │\n",
       "│ 59  │ 59     │\n",
       "│ 60  │ 60     │                                                                                                                                                                                                                                                                                                                                                                                                                                                                                                                                                                                                                                                                                                                                                                                                                                                                                                                                                                                                                                                                                                                                                                                                                                                                                                                                                                                                                                                                                                                                                                                                          \n",
       " 60×12 DataFrame. Omitted printing of 10 columns\n",
       "│ Row │ x      │ formatted_address                                            │\n",
       "│     │ \u001b[90mInt64⍰\u001b[39m │ \u001b[90mUnion{Missing, String}\u001b[39m                                       │\n",
       "├─────┼────────┼──────────────────────────────────────────────────────────────┤\n",
       "│ 1   │ 1      │ 1249 Arawa St, Rotorua 3010, New Zealand                     │\n",
       "│ 2   │ 2      │ Whitworth Rd, Utuhina, Rotorua 3015, New Zealand             │\n",
       "│ 3   │ 3      │ 251 Old Taupo Rd, Hillcrest, Rotorua 3015, New Zealand       │\n",
       "│ 4   │ 4      │ 70 Old Quarry Rd, Western Heights, Rotorua 3015, New Zealand │\n",
       "│ 5   │ 5      │ Porikapa Rd, Owhata, Rotorua 3010, New Zealand               │\n",
       "│ 6   │ 6      │ Iles Rd, Lynmore, Rotorua 3010, New Zealand                  │\n",
       "│ 7   │ 7      │ Pukuatua St, Utuhina, Rotorua 3010, New Zealand              │\n",
       "│ 8   │ 8      │ 37 Carnot St, Glenholme, Rotorua 3010, New Zealand           │\n",
       "│ 9   │ 9      │ 83-95 Malfroy Rd, Victoria, Rotorua 3010, New Zealand        │\n",
       "│ 10  │ 10     │ 196 Malfroy Rd, Utuhina, Rotorua 3015, New Zealand           │\n",
       "⋮\n",
       "│ 50  │ 50     │ Rotorua 3010, New Zealand                                    │\n",
       "│ 51  │ 51     │ 49 Sala St, Whakarewarewa, Rotorua 3010, New Zealand         │\n",
       "│ 52  │ 52     │ 54 Tarena St, Mamaku 3020, New Zealand                       │\n",
       "│ 53  │ 53     │ Zens Centre Level 5/Arawa St, Rotorua 3010, New Zealand      │\n",
       "│ 54  │ 54     │ 9 Ash Pit Rd, Rerewhakaaitu 3073, New Zealand                │\n",
       "│ 55  │ 55     │ Owhata, Rotorua 3074, New Zealand                            │\n",
       "│ 56  │ 56     │ Mokoia Drive, Rotorua 3015, New Zealand                      │\n",
       "│ 57  │ 57     │ Hemo Rd, Tihiotonga, Rotorua 3040, New Zealand               │\n",
       "│ 58  │ 58     │ Level 3/1144 Pukaki St, Rotorua 3010, New Zealand            │\n",
       "│ 59  │ 59     │ 2986 Broadlands Rd, Reporoa 3081, New Zealand                │\n",
       "│ 60  │ 60     │ 76 Springs Rd, Reporoa 3083, New Zealand                     │                        \n",
       " 60×12 DataFrame. Omitted printing of 11 columns\n",
       "│ Row │ x      │\n",
       "│     │ \u001b[90mInt64⍰\u001b[39m │\n",
       "├─────┼────────┤\n",
       "│ 1   │ 1      │\n",
       "│ 2   │ 2      │\n",
       "│ 3   │ 3      │\n",
       "│ 4   │ 4      │\n",
       "│ 5   │ 5      │\n",
       "│ 6   │ 6      │\n",
       "│ 7   │ 7      │\n",
       "│ 8   │ 8      │\n",
       "│ 9   │ 9      │\n",
       "│ 10  │ 10     │\n",
       "⋮\n",
       "│ 50  │ 50     │\n",
       "│ 51  │ 51     │\n",
       "│ 52  │ 52     │\n",
       "│ 53  │ 53     │\n",
       "│ 54  │ 54     │\n",
       "│ 55  │ 55     │\n",
       "│ 56  │ 56     │\n",
       "│ 57  │ 57     │\n",
       "│ 58  │ 58     │\n",
       "│ 59  │ 59     │\n",
       "│ 60  │ 60     │                                                                                                                                                                                                                                                                                                                                                                                                                                                                                                                                                                                                                                                                                                                                                                                                                                                                                                                                                                                                                                                                                                                                                                                                                                                                                                                                                                                                                                                                                                                                                                                                          \n",
       " 60×12 DataFrame. Omitted printing of 11 columns\n",
       "│ Row │ x      │\n",
       "│     │ \u001b[90mInt64⍰\u001b[39m │\n",
       "├─────┼────────┤\n",
       "│ 1   │ 1      │\n",
       "│ 2   │ 2      │\n",
       "│ 3   │ 3      │\n",
       "│ 4   │ 4      │\n",
       "│ 5   │ 5      │\n",
       "│ 6   │ 6      │\n",
       "│ 7   │ 7      │\n",
       "│ 8   │ 8      │\n",
       "│ 9   │ 9      │\n",
       "│ 10  │ 10     │\n",
       "⋮\n",
       "│ 50  │ 50     │\n",
       "│ 51  │ 51     │\n",
       "│ 52  │ 52     │\n",
       "│ 53  │ 53     │\n",
       "│ 54  │ 54     │\n",
       "│ 55  │ 55     │\n",
       "│ 56  │ 56     │\n",
       "│ 57  │ 57     │\n",
       "│ 58  │ 58     │\n",
       "│ 59  │ 59     │\n",
       "│ 60  │ 60     │                                                                                                                                                                                                                                                                                                                                                                                                                                                                                                                                                                                                                                                                                                                                                                                                                                                                                                                                                                                                                                                                                                                                                                                                                                                                                                                                                                                                                                                                                                                                                                                                          \n",
       " 60×12 DataFrame. Omitted printing of 10 columns\n",
       "│ Row │ x      │ formatted_address                                             │\n",
       "│     │ \u001b[90mInt64⍰\u001b[39m │ \u001b[90mUnion{Missing, String}\u001b[39m                                        │\n",
       "├─────┼────────┼───────────────────────────────────────────────────────────────┤\n",
       "│ 1   │ 1      │ 132 Liverpool St, College Estate, Whanganui 4500, New Zealand │\n",
       "│ 2   │ 2      │ 30 London St, Aramoho, Whanganui 4500, New Zealand            │\n",
       "│ 3   │ 3      │ 90 Dublin St, Whanganui, 4500, New Zealand                    │\n",
       "│ 4   │ 4      │ 15 Peat St, Whanganui, 4500, New Zealand                      │\n",
       "│ 5   │ 5      │ 84 Ingestre St, Whanganui, 4500, New Zealand                  │\n",
       "│ 6   │ 6      │ Purnell St, College Estate, Whanganui 4500, New Zealand       │\n",
       "│ 7   │ 7      │ 135 Liverpool St, College Estate, Whanganui 4500, New Zealand │\n",
       "│ 8   │ 8      │ 125 Grey St, College Estate, Whanganui 4501, New Zealand      │\n",
       "│ 9   │ 9      │ Jones St, Wanganui East, Whanganui 4500, New Zealand          │\n",
       "│ 10  │ 10     │ Keith St, Whanganui, 4500, New Zealand                        │\n",
       "⋮\n",
       "│ 50  │ 50     │ 88 Virginia Rd, Otamatea, Whanganui 4500, New Zealand         │\n",
       "│ 51  │ 51     │ 18 Cross St, Castlecliff, Whanganui 4501, New Zealand         │\n",
       "│ 52  │ 52     │ 10 Matarawa St, Wanganui East, Whanganui 4500, New Zealand    │\n",
       "│ 53  │ 53     │ 9 Park Pl, Whanganui, 4500, New Zealand                       │\n",
       "│ 54  │ 54     │ 25 Polson St, Castlecliff, Whanganui 4501, New Zealand        │\n",
       "│ 55  │ 55     │ 15 Field St, Aramoho, Whanganui 4500, New Zealand             │\n",
       "│ 56  │ 56     │ 25 Maxwell Ave, Durie Hill, Whanganui 4500, New Zealand       │\n",
       "│ 57  │ 57     │ 25 Airport Rd, Wanganui Airport, Whanganui 4501, New Zealand  │\n",
       "│ 58  │ 58     │ 16 Concord Line, RD2, Whanganui 4572, New Zealand             │\n",
       "│ 59  │ 59     │ Parsons St, Springvale, Whanganui 4501, New Zealand           │\n",
       "│ 60  │ 60     │ 30 Takarangi St, Putiki, Whanganui 4500, New Zealand          │\n",
       " 60×12 DataFrame. Omitted printing of 10 columns\n",
       "│ Row │ x      │ formatted_address                                            │\n",
       "│     │ \u001b[90mInt64⍰\u001b[39m │ \u001b[90mUnion{Missing, String}\u001b[39m                                       │\n",
       "├─────┼────────┼──────────────────────────────────────────────────────────────┤\n",
       "│ 1   │ 1      │ Bank St, Regent, Whangarei 0112, New Zealand                 │\n",
       "│ 2   │ 2      │ 1 Lupton Ave, Regent, Whangarei 0112, New Zealand            │\n",
       "│ 3   │ 3      │ Kent Rd, Regent, Whangarei 0112, New Zealand                 │\n",
       "│ 4   │ 4      │ 194 Corks Rd, Tikipunga, Whangarei 0112, New Zealand         │\n",
       "│ 5   │ 5      │ 1 Wilkinson Ave, Kamo, Whangarei 0112, New Zealand           │\n",
       "│ 6   │ 6      │ 31 Maunu Rd, Woodhill, Whangarei 0110, New Zealand           │\n",
       "│ 7   │ 7      │ 32 Rust Ave, Regent, Whangarei 0110, New Zealand             │\n",
       "│ 8   │ 8      │ 53A Morningside Rd, Morningside, Whangarei 0110, New Zealand │\n",
       "│ 9   │ 9      │ 20 Dip Rd, Kamo, Whangarei 0112, New Zealand                 │\n",
       "│ 10  │ 10     │ 1 Percy St, Kensington, Whangarei 0112, New Zealand          │\n",
       "⋮\n",
       "│ 50  │ 50     │ 13 Murdoch Cres, Raumanga, Whangarei 0110, New Zealand       │\n",
       "│ 51  │ 51     │ 64 Murdoch Cres, Raumanga, Whangarei 0110, New Zealand       │\n",
       "│ 52  │ 52     │ 51 Raumanga Valley Rd, Raumanga, Whangarei 0110, New Zealand │\n",
       "│ 53  │ 53     │ 63 Station Road, Kamo, Whangarei 0112, New Zealand           │\n",
       "│ 54  │ 54     │ 38 Kohe St, Parahaki, Whangarei 0112, New Zealand            │\n",
       "│ 55  │ 55     │ 185 Lower Dent St, Whangarei, 0110, New Zealand              │\n",
       "│ 56  │ 56     │ 45 Waverley St, Onerahi, Sherwood Rise 0110, New Zealand     │\n",
       "│ 57  │ 57     │ Bdwy Ave, Regent, Palmerston North 0112, New Zealand         │\n",
       "│ 58  │ 58     │ 83 Fourth Ave, Woodhill, Whangarei 0110, New Zealand         │\n",
       "│ 59  │ 59     │ 10 Portland School Rd, Portland 0178, New Zealand            │\n",
       "│ 60  │ 60     │ 12 Gumdigger Pl, Raumanga, Whangarei 0110, New Zealand       │                        "
      ]
     },
     "execution_count": 12,
     "metadata": {},
     "output_type": "execute_result"
    }
   ],
   "source": [
    "df= readtable.(filter!(school->occursin(r\"schools_\",school),readdir()))"
   ]
  },
  {
   "cell_type": "code",
   "execution_count": 13,
   "metadata": {},
   "outputs": [],
   "source": [
    "using StatsBase"
   ]
  },
  {
   "cell_type": "code",
   "execution_count": 14,
   "metadata": {
    "collapsed": true,
    "jupyter": {
     "outputs_hidden": true
    }
   },
   "outputs": [
    {
     "data": {
      "text/html": [
       "<table class=\"data-frame\"><thead><tr><th></th><th>x</th><th>formatted_address</th><th>icon</th></tr><tr><th></th><th>Int64⍰</th><th>String⍰</th><th>String⍰</th></tr></thead><tbody><p>60 rows × 12 columns (omitted printing of 9 columns)</p><tr><th>1</th><td>1</td><td>5 Helios Pl, Titirangi, Auckland 0604, New Zealand</td><td>https://maps.gstatic.com/mapfiles/place_api/icons/school-71.png</td></tr><tr><th>2</th><td>2</td><td>360 Albany Hwy, Albany, Auckland 0632, New Zealand</td><td>https://maps.gstatic.com/mapfiles/place_api/icons/school-71.png</td></tr><tr><th>3</th><td>3</td><td>Clyde St, Epsom, Auckland 1051, New Zealand</td><td>https://maps.gstatic.com/mapfiles/place_api/icons/school-71.png</td></tr><tr><th>4</th><td>4</td><td>536 Albany Hwy, Albany, Auckland 0632, New Zealand</td><td>https://maps.gstatic.com/mapfiles/place_api/icons/school-71.png</td></tr><tr><th>5</th><td>5</td><td>37 Heaphy St, Blockhouse Bay, Auckland 0600, New Zealand</td><td>https://maps.gstatic.com/mapfiles/place_api/icons/school-71.png</td></tr><tr><th>6</th><td>6</td><td>122 Market Rd, Epsom, Auckland 1051, New Zealand</td><td>https://maps.gstatic.com/mapfiles/place_api/icons/school-71.png</td></tr><tr><th>7</th><td>7</td><td>27 Esplanade Rd, Mount Eden, Auckland 1024, New Zealand</td><td>https://maps.gstatic.com/mapfiles/place_api/icons/school-71.png</td></tr><tr><th>8</th><td>8</td><td>39 Somerville Rd, Somerville, Auckland 2014, New Zealand</td><td>https://maps.gstatic.com/mapfiles/place_api/icons/school-71.png</td></tr><tr><th>9</th><td>9</td><td>258 Remuera Road, Remuera, Auckland 1050, New Zealand</td><td>https://maps.gstatic.com/mapfiles/place_api/icons/school-71.png</td></tr><tr><th>10</th><td>10</td><td>55-87 Mountain Rd, Epsom, Auckland 1023, New Zealand</td><td>https://maps.gstatic.com/mapfiles/place_api/icons/school-71.png</td></tr><tr><th>11</th><td>11</td><td>21 Henderson Valley Rd, Henderson, Auckland 0612, New Zealand</td><td>https://maps.gstatic.com/mapfiles/place_api/icons/school-71.png</td></tr><tr><th>12</th><td>12</td><td>11 New St, St Marys Bay, Auckland 1011, New Zealand</td><td>https://maps.gstatic.com/mapfiles/place_api/icons/school-71.png</td></tr><tr><th>13</th><td>13</td><td>514 Remuera Rd, Remuera, Auckland 1050, New Zealand</td><td>https://maps.gstatic.com/mapfiles/place_api/icons/school-71.png</td></tr><tr><th>14</th><td>14</td><td>19 Brixton Rd, Mount Eden, Auckland 1024, New Zealand</td><td>https://maps.gstatic.com/mapfiles/place_api/icons/school-71.png</td></tr><tr><th>15</th><td>15</td><td>275 Ormiston Rd, Manukau, Auckland 2016, New Zealand</td><td>https://maps.gstatic.com/mapfiles/place_api/icons/school-71.png</td></tr><tr><th>16</th><td>16</td><td>19 Appleby Rd, Albany, Auckland 0632, New Zealand</td><td>https://maps.gstatic.com/mapfiles/place_api/icons/school-71.png</td></tr><tr><th>17</th><td>17</td><td>23 Mountain Rd, Grafton, Auckland 1023, New Zealand</td><td>https://maps.gstatic.com/mapfiles/place_api/icons/school-71.png</td></tr><tr><th>18</th><td>18</td><td>55 Amy St, Ellerslie, Auckland 1051, New Zealand</td><td>https://maps.gstatic.com/mapfiles/place_api/icons/school-71.png</td></tr><tr><th>19</th><td>19</td><td>108 Shakespeare Rd, Milford, Auckland 0620, New Zealand</td><td>https://maps.gstatic.com/mapfiles/place_api/icons/school-71.png</td></tr><tr><th>20</th><td>20</td><td>95 Wellington St, Freemans Bay, Auckland 1011, New Zealand</td><td>https://maps.gstatic.com/mapfiles/place_api/icons/school-71.png</td></tr><tr><th>21</th><td>21</td><td>5 Helios Pl, Titirangi, Auckland 0604, New Zealand</td><td>https://maps.gstatic.com/mapfiles/place_api/icons/school-71.png</td></tr><tr><th>22</th><td>22</td><td>360 Albany Hwy, Albany, Auckland 0632, New Zealand</td><td>https://maps.gstatic.com/mapfiles/place_api/icons/school-71.png</td></tr><tr><th>23</th><td>23</td><td>Clyde St, Epsom, Auckland 1051, New Zealand</td><td>https://maps.gstatic.com/mapfiles/place_api/icons/school-71.png</td></tr><tr><th>24</th><td>24</td><td>536 Albany Hwy, Albany, Auckland 0632, New Zealand</td><td>https://maps.gstatic.com/mapfiles/place_api/icons/school-71.png</td></tr><tr><th>25</th><td>25</td><td>37 Heaphy St, Blockhouse Bay, Auckland 0600, New Zealand</td><td>https://maps.gstatic.com/mapfiles/place_api/icons/school-71.png</td></tr><tr><th>26</th><td>26</td><td>122 Market Rd, Epsom, Auckland 1051, New Zealand</td><td>https://maps.gstatic.com/mapfiles/place_api/icons/school-71.png</td></tr><tr><th>27</th><td>27</td><td>27 Esplanade Rd, Mount Eden, Auckland 1024, New Zealand</td><td>https://maps.gstatic.com/mapfiles/place_api/icons/school-71.png</td></tr><tr><th>28</th><td>28</td><td>39 Somerville Rd, Somerville, Auckland 2014, New Zealand</td><td>https://maps.gstatic.com/mapfiles/place_api/icons/school-71.png</td></tr><tr><th>29</th><td>29</td><td>258 Remuera Road, Remuera, Auckland 1050, New Zealand</td><td>https://maps.gstatic.com/mapfiles/place_api/icons/school-71.png</td></tr><tr><th>30</th><td>30</td><td>55-87 Mountain Rd, Epsom, Auckland 1023, New Zealand</td><td>https://maps.gstatic.com/mapfiles/place_api/icons/school-71.png</td></tr><tr><th>&vellip;</th><td>&vellip;</td><td>&vellip;</td><td>&vellip;</td></tr></tbody></table>"
      ],
      "text/latex": [
       "\\begin{tabular}{r|cccc}\n",
       "\t& x & formatted\\_address & icon & \\\\\n",
       "\t\\hline\n",
       "\t& Int64⍰ & String⍰ & String⍰ & \\\\\n",
       "\t\\hline\n",
       "\t1 & 1 & 5 Helios Pl, Titirangi, Auckland 0604, New Zealand & https://maps.gstatic.com/mapfiles/place\\_api/icons/school-71.png & $\\dots$ \\\\\n",
       "\t2 & 2 & 360 Albany Hwy, Albany, Auckland 0632, New Zealand & https://maps.gstatic.com/mapfiles/place\\_api/icons/school-71.png & $\\dots$ \\\\\n",
       "\t3 & 3 & Clyde St, Epsom, Auckland 1051, New Zealand & https://maps.gstatic.com/mapfiles/place\\_api/icons/school-71.png & $\\dots$ \\\\\n",
       "\t4 & 4 & 536 Albany Hwy, Albany, Auckland 0632, New Zealand & https://maps.gstatic.com/mapfiles/place\\_api/icons/school-71.png & $\\dots$ \\\\\n",
       "\t5 & 5 & 37 Heaphy St, Blockhouse Bay, Auckland 0600, New Zealand & https://maps.gstatic.com/mapfiles/place\\_api/icons/school-71.png & $\\dots$ \\\\\n",
       "\t6 & 6 & 122 Market Rd, Epsom, Auckland 1051, New Zealand & https://maps.gstatic.com/mapfiles/place\\_api/icons/school-71.png & $\\dots$ \\\\\n",
       "\t7 & 7 & 27 Esplanade Rd, Mount Eden, Auckland 1024, New Zealand & https://maps.gstatic.com/mapfiles/place\\_api/icons/school-71.png & $\\dots$ \\\\\n",
       "\t8 & 8 & 39 Somerville Rd, Somerville, Auckland 2014, New Zealand & https://maps.gstatic.com/mapfiles/place\\_api/icons/school-71.png & $\\dots$ \\\\\n",
       "\t9 & 9 & 258 Remuera Road, Remuera, Auckland 1050, New Zealand & https://maps.gstatic.com/mapfiles/place\\_api/icons/school-71.png & $\\dots$ \\\\\n",
       "\t10 & 10 & 55-87 Mountain Rd, Epsom, Auckland 1023, New Zealand & https://maps.gstatic.com/mapfiles/place\\_api/icons/school-71.png & $\\dots$ \\\\\n",
       "\t11 & 11 & 21 Henderson Valley Rd, Henderson, Auckland 0612, New Zealand & https://maps.gstatic.com/mapfiles/place\\_api/icons/school-71.png & $\\dots$ \\\\\n",
       "\t12 & 12 & 11 New St, St Marys Bay, Auckland 1011, New Zealand & https://maps.gstatic.com/mapfiles/place\\_api/icons/school-71.png & $\\dots$ \\\\\n",
       "\t13 & 13 & 514 Remuera Rd, Remuera, Auckland 1050, New Zealand & https://maps.gstatic.com/mapfiles/place\\_api/icons/school-71.png & $\\dots$ \\\\\n",
       "\t14 & 14 & 19 Brixton Rd, Mount Eden, Auckland 1024, New Zealand & https://maps.gstatic.com/mapfiles/place\\_api/icons/school-71.png & $\\dots$ \\\\\n",
       "\t15 & 15 & 275 Ormiston Rd, Manukau, Auckland 2016, New Zealand & https://maps.gstatic.com/mapfiles/place\\_api/icons/school-71.png & $\\dots$ \\\\\n",
       "\t16 & 16 & 19 Appleby Rd, Albany, Auckland 0632, New Zealand & https://maps.gstatic.com/mapfiles/place\\_api/icons/school-71.png & $\\dots$ \\\\\n",
       "\t17 & 17 & 23 Mountain Rd, Grafton, Auckland 1023, New Zealand & https://maps.gstatic.com/mapfiles/place\\_api/icons/school-71.png & $\\dots$ \\\\\n",
       "\t18 & 18 & 55 Amy St, Ellerslie, Auckland 1051, New Zealand & https://maps.gstatic.com/mapfiles/place\\_api/icons/school-71.png & $\\dots$ \\\\\n",
       "\t19 & 19 & 108 Shakespeare Rd, Milford, Auckland 0620, New Zealand & https://maps.gstatic.com/mapfiles/place\\_api/icons/school-71.png & $\\dots$ \\\\\n",
       "\t20 & 20 & 95 Wellington St, Freemans Bay, Auckland 1011, New Zealand & https://maps.gstatic.com/mapfiles/place\\_api/icons/school-71.png & $\\dots$ \\\\\n",
       "\t21 & 21 & 5 Helios Pl, Titirangi, Auckland 0604, New Zealand & https://maps.gstatic.com/mapfiles/place\\_api/icons/school-71.png & $\\dots$ \\\\\n",
       "\t22 & 22 & 360 Albany Hwy, Albany, Auckland 0632, New Zealand & https://maps.gstatic.com/mapfiles/place\\_api/icons/school-71.png & $\\dots$ \\\\\n",
       "\t23 & 23 & Clyde St, Epsom, Auckland 1051, New Zealand & https://maps.gstatic.com/mapfiles/place\\_api/icons/school-71.png & $\\dots$ \\\\\n",
       "\t24 & 24 & 536 Albany Hwy, Albany, Auckland 0632, New Zealand & https://maps.gstatic.com/mapfiles/place\\_api/icons/school-71.png & $\\dots$ \\\\\n",
       "\t25 & 25 & 37 Heaphy St, Blockhouse Bay, Auckland 0600, New Zealand & https://maps.gstatic.com/mapfiles/place\\_api/icons/school-71.png & $\\dots$ \\\\\n",
       "\t26 & 26 & 122 Market Rd, Epsom, Auckland 1051, New Zealand & https://maps.gstatic.com/mapfiles/place\\_api/icons/school-71.png & $\\dots$ \\\\\n",
       "\t27 & 27 & 27 Esplanade Rd, Mount Eden, Auckland 1024, New Zealand & https://maps.gstatic.com/mapfiles/place\\_api/icons/school-71.png & $\\dots$ \\\\\n",
       "\t28 & 28 & 39 Somerville Rd, Somerville, Auckland 2014, New Zealand & https://maps.gstatic.com/mapfiles/place\\_api/icons/school-71.png & $\\dots$ \\\\\n",
       "\t29 & 29 & 258 Remuera Road, Remuera, Auckland 1050, New Zealand & https://maps.gstatic.com/mapfiles/place\\_api/icons/school-71.png & $\\dots$ \\\\\n",
       "\t30 & 30 & 55-87 Mountain Rd, Epsom, Auckland 1023, New Zealand & https://maps.gstatic.com/mapfiles/place\\_api/icons/school-71.png & $\\dots$ \\\\\n",
       "\t$\\dots$ & $\\dots$ & $\\dots$ & $\\dots$ &  \\\\\n",
       "\\end{tabular}\n"
      ],
      "text/plain": [
       "60×12 DataFrame. Omitted printing of 10 columns\n",
       "│ Row │ x      │ formatted_address                                           │\n",
       "│     │ \u001b[90mInt64⍰\u001b[39m │ \u001b[90mUnion{Missing, String}\u001b[39m                                      │\n",
       "├─────┼────────┼─────────────────────────────────────────────────────────────┤\n",
       "│ 1   │ 1      │ 5 Helios Pl, Titirangi, Auckland 0604, New Zealand          │\n",
       "│ 2   │ 2      │ 360 Albany Hwy, Albany, Auckland 0632, New Zealand          │\n",
       "│ 3   │ 3      │ Clyde St, Epsom, Auckland 1051, New Zealand                 │\n",
       "│ 4   │ 4      │ 536 Albany Hwy, Albany, Auckland 0632, New Zealand          │\n",
       "│ 5   │ 5      │ 37 Heaphy St, Blockhouse Bay, Auckland 0600, New Zealand    │\n",
       "│ 6   │ 6      │ 122 Market Rd, Epsom, Auckland 1051, New Zealand            │\n",
       "│ 7   │ 7      │ 27 Esplanade Rd, Mount Eden, Auckland 1024, New Zealand     │\n",
       "│ 8   │ 8      │ 39 Somerville Rd, Somerville, Auckland 2014, New Zealand    │\n",
       "│ 9   │ 9      │ 258 Remuera Road, Remuera, Auckland 1050, New Zealand       │\n",
       "│ 10  │ 10     │ 55-87 Mountain Rd, Epsom, Auckland 1023, New Zealand        │\n",
       "⋮\n",
       "│ 50  │ 50     │ 140 Birkdale Rd, Birkdale, Auckland 0626, New Zealand       │\n",
       "│ 51  │ 51     │ 34 Shakespeare Rd, Milford, Auckland 0620, New Zealand      │\n",
       "│ 52  │ 52     │ 564 E Coast Rd, Mairangi Bay, Auckland 0630, New Zealand    │\n",
       "│ 53  │ 53     │ 29 Rathgar Rd, Henderson, Auckland 0610, New Zealand        │\n",
       "│ 54  │ 54     │ 26 Northcote Rd, Takapuna, Auckland 0622, New Zealand       │\n",
       "│ 55  │ 55     │ Silver Rd, Epsom, Auckland 1023, New Zealand                │\n",
       "│ 56  │ 56     │ 274 Don Buck Rd, Massey, Auckland 0614, New Zealand         │\n",
       "│ 57  │ 57     │ 16 Howe St, Freemans Bay, Auckland 1011, New Zealand        │\n",
       "│ 58  │ 58     │ Waiake, Auckland 0630, New Zealand                          │\n",
       "│ 59  │ 59     │ 100 Motions Rd, Western Springs, Auckland 1022, New Zealand │\n",
       "│ 60  │ 60     │ Frost Rd, Mount Roskill, Auckland 1041, New Zealand         │"
      ]
     },
     "execution_count": 14,
     "metadata": {},
     "output_type": "execute_result"
    }
   ],
   "source": [
    "schools_df=df[1]"
   ]
  },
  {
   "cell_type": "code",
   "execution_count": 15,
   "metadata": {},
   "outputs": [
    {
     "data": {
      "text/plain": [
       "60"
      ]
     },
     "execution_count": 15,
     "metadata": {},
     "output_type": "execute_result"
    }
   ],
   "source": [
    "nrow(schools_df)"
   ]
  },
  {
   "cell_type": "code",
   "execution_count": 16,
   "metadata": {},
   "outputs": [
    {
     "data": {
      "text/plain": [
       "14-element Array{Int64,1}:\n",
       " 60\n",
       " 60\n",
       " 60\n",
       " 60\n",
       " 60\n",
       " 60\n",
       " 60\n",
       " 60\n",
       " 60\n",
       " 60\n",
       " 60\n",
       " 60\n",
       " 60\n",
       " 60"
      ]
     },
     "execution_count": 16,
     "metadata": {},
     "output_type": "execute_result"
    }
   ],
   "source": [
    "nrow.(df[2:length(df)])"
   ]
  },
  {
   "cell_type": "code",
   "execution_count": 17,
   "metadata": {},
   "outputs": [],
   "source": [
    "for school in df[2:length(df)]\n",
    "    schools_df = vcat(schools_df,school)\n",
    "end"
   ]
  },
  {
   "cell_type": "code",
   "execution_count": 18,
   "metadata": {},
   "outputs": [
    {
     "data": {
      "text/plain": [
       "900"
      ]
     },
     "execution_count": 18,
     "metadata": {},
     "output_type": "execute_result"
    }
   ],
   "source": [
    "nrow(schools_df)"
   ]
  },
  {
   "cell_type": "code",
   "execution_count": 19,
   "metadata": {},
   "outputs": [
    {
     "name": "stderr",
     "output_type": "stream",
     "text": [
      "┌ Warning: `tail(df::AbstractDataFrame)` is deprecated, use `last(df, 6)` instead.\n",
      "│   caller = top-level scope at In[19]:1\n",
      "└ @ Core In[19]:1\n"
     ]
    },
    {
     "data": {
      "text/html": [
       "<table class=\"data-frame\"><thead><tr><th></th><th>x</th><th>formatted_address</th><th>icon</th></tr><tr><th></th><th>Int64⍰</th><th>String⍰</th><th>String⍰</th></tr></thead><tbody><p>6 rows × 12 columns (omitted printing of 9 columns)</p><tr><th>1</th><td>55</td><td>185 Lower Dent St, Whangarei, 0110, New Zealand</td><td>https://maps.gstatic.com/mapfiles/place_api/icons/school-71.png</td></tr><tr><th>2</th><td>56</td><td>45 Waverley St, Onerahi, Sherwood Rise 0110, New Zealand</td><td>https://maps.gstatic.com/mapfiles/place_api/icons/school-71.png</td></tr><tr><th>3</th><td>57</td><td>Bdwy Ave, Regent, Palmerston North 0112, New Zealand</td><td>https://maps.gstatic.com/mapfiles/place_api/icons/school-71.png</td></tr><tr><th>4</th><td>58</td><td>83 Fourth Ave, Woodhill, Whangarei 0110, New Zealand</td><td>https://maps.gstatic.com/mapfiles/place_api/icons/school-71.png</td></tr><tr><th>5</th><td>59</td><td>10 Portland School Rd, Portland 0178, New Zealand</td><td>https://maps.gstatic.com/mapfiles/place_api/icons/school-71.png</td></tr><tr><th>6</th><td>60</td><td>12 Gumdigger Pl, Raumanga, Whangarei 0110, New Zealand</td><td>https://maps.gstatic.com/mapfiles/place_api/icons/school-71.png</td></tr></tbody></table>"
      ],
      "text/latex": [
       "\\begin{tabular}{r|cccc}\n",
       "\t& x & formatted\\_address & icon & \\\\\n",
       "\t\\hline\n",
       "\t& Int64⍰ & String⍰ & String⍰ & \\\\\n",
       "\t\\hline\n",
       "\t1 & 55 & 185 Lower Dent St, Whangarei, 0110, New Zealand & https://maps.gstatic.com/mapfiles/place\\_api/icons/school-71.png & $\\dots$ \\\\\n",
       "\t2 & 56 & 45 Waverley St, Onerahi, Sherwood Rise 0110, New Zealand & https://maps.gstatic.com/mapfiles/place\\_api/icons/school-71.png & $\\dots$ \\\\\n",
       "\t3 & 57 & Bdwy Ave, Regent, Palmerston North 0112, New Zealand & https://maps.gstatic.com/mapfiles/place\\_api/icons/school-71.png & $\\dots$ \\\\\n",
       "\t4 & 58 & 83 Fourth Ave, Woodhill, Whangarei 0110, New Zealand & https://maps.gstatic.com/mapfiles/place\\_api/icons/school-71.png & $\\dots$ \\\\\n",
       "\t5 & 59 & 10 Portland School Rd, Portland 0178, New Zealand & https://maps.gstatic.com/mapfiles/place\\_api/icons/school-71.png & $\\dots$ \\\\\n",
       "\t6 & 60 & 12 Gumdigger Pl, Raumanga, Whangarei 0110, New Zealand & https://maps.gstatic.com/mapfiles/place\\_api/icons/school-71.png & $\\dots$ \\\\\n",
       "\\end{tabular}\n"
      ],
      "text/plain": [
       "6×12 DataFrame. Omitted printing of 10 columns\n",
       "│ Row │ x      │ formatted_address                                        │\n",
       "│     │ \u001b[90mInt64⍰\u001b[39m │ \u001b[90mUnion{Missing, String}\u001b[39m                                   │\n",
       "├─────┼────────┼──────────────────────────────────────────────────────────┤\n",
       "│ 1   │ 55     │ 185 Lower Dent St, Whangarei, 0110, New Zealand          │\n",
       "│ 2   │ 56     │ 45 Waverley St, Onerahi, Sherwood Rise 0110, New Zealand │\n",
       "│ 3   │ 57     │ Bdwy Ave, Regent, Palmerston North 0112, New Zealand     │\n",
       "│ 4   │ 58     │ 83 Fourth Ave, Woodhill, Whangarei 0110, New Zealand     │\n",
       "│ 5   │ 59     │ 10 Portland School Rd, Portland 0178, New Zealand        │\n",
       "│ 6   │ 60     │ 12 Gumdigger Pl, Raumanga, Whangarei 0110, New Zealand   │"
      ]
     },
     "execution_count": 19,
     "metadata": {},
     "output_type": "execute_result"
    }
   ],
   "source": [
    "tail(schools_df)"
   ]
  },
  {
   "cell_type": "code",
   "execution_count": 20,
   "metadata": {
    "collapsed": true,
    "jupyter": {
     "outputs_hidden": true
    }
   },
   "outputs": [
    {
     "data": {
      "text/plain": [
       "11-element Array{DataFrame,1}:\n",
       " 60×12 DataFrame. Omitted printing of 11 columns\n",
       "│ Row │ x      │\n",
       "│     │ \u001b[90mInt64⍰\u001b[39m │\n",
       "├─────┼────────┤\n",
       "│ 1   │ 1      │\n",
       "│ 2   │ 2      │\n",
       "│ 3   │ 3      │\n",
       "│ 4   │ 4      │\n",
       "│ 5   │ 5      │\n",
       "│ 6   │ 6      │\n",
       "│ 7   │ 7      │\n",
       "│ 8   │ 8      │\n",
       "│ 9   │ 9      │\n",
       "│ 10  │ 10     │\n",
       "⋮\n",
       "│ 50  │ 50     │\n",
       "│ 51  │ 51     │\n",
       "│ 52  │ 52     │\n",
       "│ 53  │ 53     │\n",
       "│ 54  │ 54     │\n",
       "│ 55  │ 55     │\n",
       "│ 56  │ 56     │\n",
       "│ 57  │ 57     │\n",
       "│ 58  │ 58     │\n",
       "│ 59  │ 59     │\n",
       "│ 60  │ 60     │                                                                                                                                                                                                                                                                                                                                                                                                                                                                                                                                                                                                                                                                                                                                                                                                                                                                                                                                                                                                                                                                                                                                                                                                                                                                                                                                                                                                                                                          \n",
       " 60×12 DataFrame. Omitted printing of 11 columns\n",
       "│ Row │ x      │\n",
       "│     │ \u001b[90mInt64⍰\u001b[39m │\n",
       "├─────┼────────┤\n",
       "│ 1   │ 1      │\n",
       "│ 2   │ 2      │\n",
       "│ 3   │ 3      │\n",
       "│ 4   │ 4      │\n",
       "│ 5   │ 5      │\n",
       "│ 6   │ 6      │\n",
       "│ 7   │ 7      │\n",
       "│ 8   │ 8      │\n",
       "│ 9   │ 9      │\n",
       "│ 10  │ 10     │\n",
       "⋮\n",
       "│ 50  │ 50     │\n",
       "│ 51  │ 51     │\n",
       "│ 52  │ 52     │\n",
       "│ 53  │ 53     │\n",
       "│ 54  │ 54     │\n",
       "│ 55  │ 55     │\n",
       "│ 56  │ 56     │\n",
       "│ 57  │ 57     │\n",
       "│ 58  │ 58     │\n",
       "│ 59  │ 59     │\n",
       "│ 60  │ 60     │                                                                                                                                                                                                                                                                                                                                                                                                                                                                                                                                                                                                                                                                                                                                                                                                                                                                                                                                                                                                                                                                                                                                                                                                                                                                                                                                                                                                                                                          \n",
       " 66×12 DataFrame. Omitted printing of 11 columns\n",
       "│ Row │ x      │\n",
       "│     │ \u001b[90mInt64⍰\u001b[39m │\n",
       "├─────┼────────┤\n",
       "│ 1   │ 1      │\n",
       "│ 2   │ 2      │\n",
       "│ 3   │ 3      │\n",
       "│ 4   │ 4      │\n",
       "│ 5   │ 5      │\n",
       "│ 6   │ 6      │\n",
       "│ 7   │ 7      │\n",
       "│ 8   │ 8      │\n",
       "│ 9   │ 9      │\n",
       "│ 10  │ 10     │\n",
       "⋮\n",
       "│ 56  │ 56     │\n",
       "│ 57  │ 57     │\n",
       "│ 58  │ 58     │\n",
       "│ 59  │ 59     │\n",
       "│ 60  │ 60     │\n",
       "│ 61  │ 61     │\n",
       "│ 62  │ 62     │\n",
       "│ 63  │ 63     │\n",
       "│ 64  │ 64     │\n",
       "│ 65  │ 65     │\n",
       "│ 66  │ 66     │                                                                                                                                                                                                                                                                                                                                                                                                                                                                                                                                                                                                                                                                                                                                                                                                                                                                                                                                                                                                                                                                                                                                                                                                                                                                                                                                                                                                                                                          \n",
       " 68×12 DataFrame. Omitted printing of 11 columns\n",
       "│ Row │ x      │\n",
       "│     │ \u001b[90mInt64⍰\u001b[39m │\n",
       "├─────┼────────┤\n",
       "│ 1   │ 1      │\n",
       "│ 2   │ 2      │\n",
       "│ 3   │ 3      │\n",
       "│ 4   │ 4      │\n",
       "│ 5   │ 5      │\n",
       "│ 6   │ 6      │\n",
       "│ 7   │ 7      │\n",
       "│ 8   │ 8      │\n",
       "│ 9   │ 9      │\n",
       "│ 10  │ 10     │\n",
       "⋮\n",
       "│ 58  │ 58     │\n",
       "│ 59  │ 59     │\n",
       "│ 60  │ 60     │\n",
       "│ 61  │ 61     │\n",
       "│ 62  │ 62     │\n",
       "│ 63  │ 63     │\n",
       "│ 64  │ 64     │\n",
       "│ 65  │ 65     │\n",
       "│ 66  │ 66     │\n",
       "│ 67  │ 67     │\n",
       "│ 68  │ 68     │                                                                                                                                                                                                                                                                                                                                                                                                                                                                                                                                                                                                                                                                                                                                                                                                                                                                                                                                                                                                                                                                                                                                                                                                                                                                                                                                                                                                                                                          \n",
       " 66×12 DataFrame. Omitted printing of 10 columns\n",
       "│ Row │ x      │ formatted_address                                       │\n",
       "│     │ \u001b[90mInt64⍰\u001b[39m │ \u001b[90mUnion{Missing, String}\u001b[39m                                  │\n",
       "├─────┼────────┼─────────────────────────────────────────────────────────┤\n",
       "│ 1   │ 1      │ Kew Rd, Kew, Invercargill 9812, New Zealand             │\n",
       "│ 2   │ 2      │ 215 Centre St, Newfield, Invercargill 9812, New Zealand │\n",
       "│ 3   │ 3      │ 108 Deveron St, Invercargill, 9810, New Zealand         │\n",
       "│ 4   │ 4      │ 97 Gala St, Queens Park, Invercargill 9810, New Zealand │\n",
       "│ 5   │ 5      │ 350 North Rd, Waikiwi, Gladstone 9810, New Zealand      │\n",
       "│ 6   │ 6      │ 485 Elles Rd, Kew, Invercargill 9812, New Zealand       │\n",
       "│ 7   │ 7      │ 3265090, Kew, Invercargill 9812, New Zealand            │\n",
       "│ 8   │ 8      │ Invercargill, 9810, New Zealand                         │\n",
       "│ 9   │ 9      │ 69 Don St, Invercargill, 9810, New Zealand              │\n",
       "│ 10  │ 10     │ 105 Don St, Invercargill, 9810, New Zealand             │\n",
       "⋮\n",
       "│ 56  │ 56     │ Kew Rd, Kew, Invercargill 9812, New Zealand             │\n",
       "│ 57  │ 57     │ 215 Centre St, Newfield, Invercargill 9812, New Zealand │\n",
       "│ 58  │ 58     │ 108 Deveron St, Invercargill, 9810, New Zealand         │\n",
       "│ 59  │ 59     │ 97 Gala St, Queens Park, Invercargill 9810, New Zealand │\n",
       "│ 60  │ 60     │ 350 North Rd, Waikiwi, Gladstone 9810, New Zealand      │\n",
       "│ 61  │ 61     │ 485 Elles Rd, Kew, Invercargill 9812, New Zealand       │\n",
       "│ 62  │ 62     │ 3265090, Kew, Invercargill 9812, New Zealand            │\n",
       "│ 63  │ 63     │ Invercargill, 9810, New Zealand                         │\n",
       "│ 64  │ 64     │ 69 Don St, Invercargill, 9810, New Zealand              │\n",
       "│ 65  │ 65     │ 105 Don St, Invercargill, 9810, New Zealand             │\n",
       "│ 66  │ 66     │ 160 Don St, Invercargill, 9810, New Zealand             │\n",
       " 19×12 DataFrame. Omitted printing of 11 columns\n",
       "│ Row │ x      │\n",
       "│     │ \u001b[90mInt64⍰\u001b[39m │\n",
       "├─────┼────────┤\n",
       "│ 1   │ 1      │\n",
       "│ 2   │ 2      │\n",
       "│ 3   │ 3      │\n",
       "│ 4   │ 4      │\n",
       "│ 5   │ 5      │\n",
       "│ 6   │ 6      │\n",
       "│ 7   │ 7      │\n",
       "│ 8   │ 8      │\n",
       "│ 9   │ 9      │\n",
       "│ 10  │ 10     │\n",
       "│ 11  │ 11     │\n",
       "│ 12  │ 12     │\n",
       "│ 13  │ 13     │\n",
       "│ 14  │ 14     │\n",
       "│ 15  │ 15     │\n",
       "│ 16  │ 16     │\n",
       "│ 17  │ 17     │\n",
       "│ 18  │ 18     │\n",
       "│ 19  │ 19     │                                                                                                                                                                                                                                                                                                                                                                                                                                                                                                                                                                                                                                                                                                                                                                                                                                                                                                                                                                                                                                                                                                                                                                                                                                                                                                                                                                                                                                                                                              \n",
       " 4×12 DataFrame. Omitted printing of 10 columns\n",
       "│ Row │ x      │ formatted_address                                        │\n",
       "│     │ \u001b[90mInt64⍰\u001b[39m │ \u001b[90mUnion{Missing, String}\u001b[39m                                   │\n",
       "├─────┼────────┼──────────────────────────────────────────────────────────┤\n",
       "│ 1   │ 1      │ David St, Westown, New Plymouth 4310, New Zealand        │\n",
       "│ 2   │ 2      │ 4310/205 St Aubyn St, New Plymouth 4310, New Zealand     │\n",
       "│ 3   │ 3      │ 33 Mangorei Rd, Strandon, New Plymouth 4312, New Zealand │\n",
       "│ 4   │ 4      │ 18 Peace Ave, Moturoa, New Plymouth 4310, New Zealand    │                                                                                                                                                                                                                                                                                                                                                                                                                                                                                                                                                                                                                                                                                                                                                                                                                                                                                                                                                                                                                                                                                                                                                                                                                                                                                                                       \n",
       " 23×12 DataFrame. Omitted printing of 11 columns\n",
       "│ Row │ x      │\n",
       "│     │ \u001b[90mInt64⍰\u001b[39m │\n",
       "├─────┼────────┤\n",
       "│ 1   │ 1      │\n",
       "│ 2   │ 2      │\n",
       "│ 3   │ 3      │\n",
       "│ 4   │ 4      │\n",
       "│ 5   │ 5      │\n",
       "│ 6   │ 6      │\n",
       "│ 7   │ 7      │\n",
       "│ 8   │ 8      │\n",
       "│ 9   │ 9      │\n",
       "│ 10  │ 10     │\n",
       "│ 11  │ 11     │\n",
       "│ 12  │ 12     │\n",
       "│ 13  │ 13     │\n",
       "│ 14  │ 14     │\n",
       "│ 15  │ 15     │\n",
       "│ 16  │ 16     │\n",
       "│ 17  │ 17     │\n",
       "│ 18  │ 18     │\n",
       "│ 19  │ 19     │\n",
       "│ 20  │ 20     │\n",
       "│ 21  │ 21     │\n",
       "│ 22  │ 22     │\n",
       "│ 23  │ 23     │                                                                                                                                                                                                                                                                                                                                                                                                                                                                                                                                                                                                                                                                                                                                                                                                                                                                                                                                                                                                                                                                                                                                                                                                                                                                                                                                                                                                                          \n",
       " 60×12 DataFrame. Omitted printing of 11 columns\n",
       "│ Row │ x      │\n",
       "│     │ \u001b[90mInt64⍰\u001b[39m │\n",
       "├─────┼────────┤\n",
       "│ 1   │ 1      │\n",
       "│ 2   │ 2      │\n",
       "│ 3   │ 3      │\n",
       "│ 4   │ 4      │\n",
       "│ 5   │ 5      │\n",
       "│ 6   │ 6      │\n",
       "│ 7   │ 7      │\n",
       "│ 8   │ 8      │\n",
       "│ 9   │ 9      │\n",
       "│ 10  │ 10     │\n",
       "⋮\n",
       "│ 50  │ 50     │\n",
       "│ 51  │ 51     │\n",
       "│ 52  │ 52     │\n",
       "│ 53  │ 53     │\n",
       "│ 54  │ 54     │\n",
       "│ 55  │ 55     │\n",
       "│ 56  │ 56     │\n",
       "│ 57  │ 57     │\n",
       "│ 58  │ 58     │\n",
       "│ 59  │ 59     │\n",
       "│ 60  │ 60     │                                                                                                                                                                                                                                                                                                                                                                                                                                                                                                                                                                                                                                                                                                                                                                                                                                                                                                                                                                                                                                                                                                                                                                                                                                                                                                                                                                                                                                                          \n",
       " 62×12 DataFrame. Omitted printing of 11 columns\n",
       "│ Row │ x      │\n",
       "│     │ \u001b[90mInt64⍰\u001b[39m │\n",
       "├─────┼────────┤\n",
       "│ 1   │ 1      │\n",
       "│ 2   │ 2      │\n",
       "│ 3   │ 3      │\n",
       "│ 4   │ 4      │\n",
       "│ 5   │ 5      │\n",
       "│ 6   │ 6      │\n",
       "│ 7   │ 7      │\n",
       "│ 8   │ 8      │\n",
       "│ 9   │ 9      │\n",
       "│ 10  │ 10     │\n",
       "⋮\n",
       "│ 52  │ 52     │\n",
       "│ 53  │ 53     │\n",
       "│ 54  │ 54     │\n",
       "│ 55  │ 55     │\n",
       "│ 56  │ 56     │\n",
       "│ 57  │ 57     │\n",
       "│ 58  │ 58     │\n",
       "│ 59  │ 59     │\n",
       "│ 60  │ 60     │\n",
       "│ 61  │ 61     │\n",
       "│ 62  │ 62     │                                                                                                                                                                                                                                                                                                                                                                                                                                                                                                                                                                                                                                                                                                                                                                                                                                                                                                                                                                                                                                                                                                                                                                                                                                                                                                                                                                                                                                                          \n",
       " 13×12 DataFrame. Omitted printing of 11 columns\n",
       "│ Row │ x      │\n",
       "│     │ \u001b[90mInt64⍰\u001b[39m │\n",
       "├─────┼────────┤\n",
       "│ 1   │ 1      │\n",
       "│ 2   │ 2      │\n",
       "│ 3   │ 3      │\n",
       "│ 4   │ 4      │\n",
       "│ 5   │ 5      │\n",
       "│ 6   │ 6      │\n",
       "│ 7   │ 7      │\n",
       "│ 8   │ 8      │\n",
       "│ 9   │ 9      │\n",
       "│ 10  │ 10     │\n",
       "│ 11  │ 11     │\n",
       "│ 12  │ 12     │\n",
       "│ 13  │ 13     │                                                                                                                                                                                                                                                                                                                                                                                                                                                                                                                                                                                                                                                                                                                                                                                                                                                                                                                                                                                                                                                                                                                                                                                                                                                                                                                                                                                                                                                                                                                                                                                                    "
      ]
     },
     "execution_count": 20,
     "metadata": {},
     "output_type": "execute_result"
    }
   ],
   "source": [
    "hospital_temp= readtable.(filter!(school->occursin(r\"hospitals_\",school),readdir()))"
   ]
  },
  {
   "cell_type": "code",
   "execution_count": 21,
   "metadata": {
    "collapsed": true,
    "jupyter": {
     "outputs_hidden": true
    }
   },
   "outputs": [
    {
     "data": {
      "text/html": [
       "<table class=\"data-frame\"><thead><tr><th></th><th>x</th><th>formatted_address</th></tr><tr><th></th><th>Int64⍰</th><th>String⍰</th></tr></thead><tbody><p>60 rows × 12 columns (omitted printing of 10 columns)</p><tr><th>1</th><td>1</td><td>100 Hospital Rd, Otahuhu, Auckland 2025, New Zealand</td></tr><tr><th>2</th><td>2</td><td>2 Park Rd, Grafton, Auckland 1023, New Zealand</td></tr><tr><th>3</th><td>3</td><td>124 Shakespeare Rd, Takapuna, Auckland 0620, New Zealand</td></tr><tr><th>4</th><td>4</td><td>214 Green Ln W, Epsom, Auckland 1051, New Zealand</td></tr><tr><th>5</th><td>5</td><td>55-75 Lincoln Rd, Henderson, Auckland 0610, New Zealand</td></tr><tr><th>6</th><td>6</td><td>98 Mountain Rd, Epsom, Auckland 1023, New Zealand</td></tr><tr><th>7</th><td>7</td><td>Level 7/214 Green Ln W, Greenlane, Auckland 1051, New Zealand</td></tr><tr><th>8</th><td>8</td><td>100 Hospital Rd, Middlemore Hospital, Auckland 2025, New Zealand</td></tr><tr><th>9</th><td>9</td><td>20 Titoki St, Parnell, Auckland 1052, New Zealand</td></tr><tr><th>10</th><td>10</td><td>125 Ormiston Rd, Flat Bush, Auckland 2016, New Zealand</td></tr><tr><th>11</th><td>11</td><td>90 Green Ln E, Remuera, Auckland 1051, New Zealand</td></tr><tr><th>12</th><td>12</td><td>901 Great South Rd, Manukau, Auckland 2104, New Zealand</td></tr><tr><th>13</th><td>13</td><td>214 Green Ln W, Epsom, Auckland 1051, New Zealand</td></tr><tr><th>14</th><td>14</td><td>32 Claude Rd, Greenlane, Auckland 1051, New Zealand</td></tr><tr><th>15</th><td>15</td><td>86 Friesian Dr, Mangere, Auckland 2022, New Zealand</td></tr><tr><th>16</th><td>16</td><td>20 Lincoln Rd, Henderson, Auckland 0610, New Zealand</td></tr><tr><th>17</th><td>17</td><td>105 Hospital Rd, Middlemore Hospital, Auckland 2025, New Zealand</td></tr><tr><th>18</th><td>18</td><td>12 Coronation St, Belmont, Auckland 0622, New Zealand</td></tr><tr><th>19</th><td>19</td><td>260 Botany Rd, Golflands, Auckland 2013, New Zealand</td></tr><tr><th>20</th><td>20</td><td>12 Umere Cres, Ellerslie, Auckland 1051, New Zealand</td></tr><tr><th>21</th><td>21</td><td>98 Mountain Rd, Epsom, Auckland 1023, New Zealand</td></tr><tr><th>22</th><td>22</td><td>Level 9/2 Park Rd, Grafton, Auckland 1023, New Zealand</td></tr><tr><th>23</th><td>23</td><td>10 Macmurray Rd, Remuera, Auckland 1050, New Zealand</td></tr><tr><th>24</th><td>24</td><td>19 Denver Ave, Henderson, Auckland 0612, New Zealand</td></tr><tr><th>25</th><td>25</td><td>90 Shaftesbury Ave, Point Chevalier, Auckland 1022, New Zealand</td></tr><tr><th>26</th><td>26</td><td>539a Mount Albert Rd, Three Kings, Auckland 1042, New Zealand</td></tr><tr><th>27</th><td>27</td><td>Grafton, Auckland 1010, New Zealand</td></tr><tr><th>28</th><td>28</td><td>100A Hospital Rd, Middlemore Hospital, Auckland 2025, New Zealand</td></tr><tr><th>29</th><td>29</td><td>33/37 Paramount Dr, Henderson, Auckland 0610, New Zealand</td></tr><tr><th>30</th><td>30</td><td>Ascot Office Park 93-95 Ascot Ave, Greenlane East, Auckland 1051, New Zealand</td></tr><tr><th>&vellip;</th><td>&vellip;</td><td>&vellip;</td></tr></tbody></table>"
      ],
      "text/latex": [
       "\\begin{tabular}{r|ccc}\n",
       "\t& x & formatted\\_address & \\\\\n",
       "\t\\hline\n",
       "\t& Int64⍰ & String⍰ & \\\\\n",
       "\t\\hline\n",
       "\t1 & 1 & 100 Hospital Rd, Otahuhu, Auckland 2025, New Zealand & $\\dots$ \\\\\n",
       "\t2 & 2 & 2 Park Rd, Grafton, Auckland 1023, New Zealand & $\\dots$ \\\\\n",
       "\t3 & 3 & 124 Shakespeare Rd, Takapuna, Auckland 0620, New Zealand & $\\dots$ \\\\\n",
       "\t4 & 4 & 214 Green Ln W, Epsom, Auckland 1051, New Zealand & $\\dots$ \\\\\n",
       "\t5 & 5 & 55-75 Lincoln Rd, Henderson, Auckland 0610, New Zealand & $\\dots$ \\\\\n",
       "\t6 & 6 & 98 Mountain Rd, Epsom, Auckland 1023, New Zealand & $\\dots$ \\\\\n",
       "\t7 & 7 & Level 7/214 Green Ln W, Greenlane, Auckland 1051, New Zealand & $\\dots$ \\\\\n",
       "\t8 & 8 & 100 Hospital Rd, Middlemore Hospital, Auckland 2025, New Zealand & $\\dots$ \\\\\n",
       "\t9 & 9 & 20 Titoki St, Parnell, Auckland 1052, New Zealand & $\\dots$ \\\\\n",
       "\t10 & 10 & 125 Ormiston Rd, Flat Bush, Auckland 2016, New Zealand & $\\dots$ \\\\\n",
       "\t11 & 11 & 90 Green Ln E, Remuera, Auckland 1051, New Zealand & $\\dots$ \\\\\n",
       "\t12 & 12 & 901 Great South Rd, Manukau, Auckland 2104, New Zealand & $\\dots$ \\\\\n",
       "\t13 & 13 & 214 Green Ln W, Epsom, Auckland 1051, New Zealand & $\\dots$ \\\\\n",
       "\t14 & 14 & 32 Claude Rd, Greenlane, Auckland 1051, New Zealand & $\\dots$ \\\\\n",
       "\t15 & 15 & 86 Friesian Dr, Mangere, Auckland 2022, New Zealand & $\\dots$ \\\\\n",
       "\t16 & 16 & 20 Lincoln Rd, Henderson, Auckland 0610, New Zealand & $\\dots$ \\\\\n",
       "\t17 & 17 & 105 Hospital Rd, Middlemore Hospital, Auckland 2025, New Zealand & $\\dots$ \\\\\n",
       "\t18 & 18 & 12 Coronation St, Belmont, Auckland 0622, New Zealand & $\\dots$ \\\\\n",
       "\t19 & 19 & 260 Botany Rd, Golflands, Auckland 2013, New Zealand & $\\dots$ \\\\\n",
       "\t20 & 20 & 12 Umere Cres, Ellerslie, Auckland 1051, New Zealand & $\\dots$ \\\\\n",
       "\t21 & 21 & 98 Mountain Rd, Epsom, Auckland 1023, New Zealand & $\\dots$ \\\\\n",
       "\t22 & 22 & Level 9/2 Park Rd, Grafton, Auckland 1023, New Zealand & $\\dots$ \\\\\n",
       "\t23 & 23 & 10 Macmurray Rd, Remuera, Auckland 1050, New Zealand & $\\dots$ \\\\\n",
       "\t24 & 24 & 19 Denver Ave, Henderson, Auckland 0612, New Zealand & $\\dots$ \\\\\n",
       "\t25 & 25 & 90 Shaftesbury Ave, Point Chevalier, Auckland 1022, New Zealand & $\\dots$ \\\\\n",
       "\t26 & 26 & 539a Mount Albert Rd, Three Kings, Auckland 1042, New Zealand & $\\dots$ \\\\\n",
       "\t27 & 27 & Grafton, Auckland 1010, New Zealand & $\\dots$ \\\\\n",
       "\t28 & 28 & 100A Hospital Rd, Middlemore Hospital, Auckland 2025, New Zealand & $\\dots$ \\\\\n",
       "\t29 & 29 & 33/37 Paramount Dr, Henderson, Auckland 0610, New Zealand & $\\dots$ \\\\\n",
       "\t30 & 30 & Ascot Office Park 93-95 Ascot Ave, Greenlane East, Auckland 1051, New Zealand & $\\dots$ \\\\\n",
       "\t$\\dots$ & $\\dots$ & $\\dots$ &  \\\\\n",
       "\\end{tabular}\n"
      ],
      "text/plain": [
       "60×12 DataFrame. Omitted printing of 11 columns\n",
       "│ Row │ x      │\n",
       "│     │ \u001b[90mInt64⍰\u001b[39m │\n",
       "├─────┼────────┤\n",
       "│ 1   │ 1      │\n",
       "│ 2   │ 2      │\n",
       "│ 3   │ 3      │\n",
       "│ 4   │ 4      │\n",
       "│ 5   │ 5      │\n",
       "│ 6   │ 6      │\n",
       "│ 7   │ 7      │\n",
       "│ 8   │ 8      │\n",
       "│ 9   │ 9      │\n",
       "│ 10  │ 10     │\n",
       "⋮\n",
       "│ 50  │ 50     │\n",
       "│ 51  │ 51     │\n",
       "│ 52  │ 52     │\n",
       "│ 53  │ 53     │\n",
       "│ 54  │ 54     │\n",
       "│ 55  │ 55     │\n",
       "│ 56  │ 56     │\n",
       "│ 57  │ 57     │\n",
       "│ 58  │ 58     │\n",
       "│ 59  │ 59     │\n",
       "│ 60  │ 60     │"
      ]
     },
     "execution_count": 21,
     "metadata": {},
     "output_type": "execute_result"
    }
   ],
   "source": [
    "hospital_df=hospital_temp[1]"
   ]
  },
  {
   "cell_type": "code",
   "execution_count": 22,
   "metadata": {},
   "outputs": [
    {
     "data": {
      "text/plain": [
       "11-element Array{Int64,1}:\n",
       " 60\n",
       " 60\n",
       " 66\n",
       " 68\n",
       " 66\n",
       " 19\n",
       "  4\n",
       " 23\n",
       " 60\n",
       " 62\n",
       " 13"
      ]
     },
     "execution_count": 22,
     "metadata": {},
     "output_type": "execute_result"
    }
   ],
   "source": [
    "nrow.(hospital_temp)"
   ]
  },
  {
   "cell_type": "code",
   "execution_count": 23,
   "metadata": {},
   "outputs": [],
   "source": [
    "for hospital in hospital_temp[2:length(hospital_temp)]\n",
    "    hospital_df = vcat(hospital_df,hospital)\n",
    "end"
   ]
  },
  {
   "cell_type": "code",
   "execution_count": 24,
   "metadata": {},
   "outputs": [
    {
     "data": {
      "text/plain": [
       "501"
      ]
     },
     "execution_count": 24,
     "metadata": {},
     "output_type": "execute_result"
    }
   ],
   "source": [
    "nrow(hospital_df)"
   ]
  },
  {
   "cell_type": "code",
   "execution_count": 25,
   "metadata": {},
   "outputs": [
    {
     "data": {
      "text/plain": [
       "12-element Array{Symbol,1}:\n",
       " :x                 \n",
       " :formatted_address \n",
       " :icon              \n",
       " :id                \n",
       " :name              \n",
       " :place_id          \n",
       " :rating            \n",
       " :reference         \n",
       " :user_ratings_total\n",
       " :lat               \n",
       " :long              \n",
       " :city              "
      ]
     },
     "execution_count": 25,
     "metadata": {},
     "output_type": "execute_result"
    }
   ],
   "source": [
    "names(hospital_df)"
   ]
  },
  {
   "cell_type": "code",
   "execution_count": 26,
   "metadata": {},
   "outputs": [
    {
     "name": "stderr",
     "output_type": "stream",
     "text": [
      "┌ Warning: `tail(df::AbstractDataFrame)` is deprecated, use `last(df, 6)` instead.\n",
      "│   caller = top-level scope at In[26]:1\n",
      "└ @ Core In[26]:1\n"
     ]
    },
    {
     "data": {
      "text/html": [
       "<table class=\"data-frame\"><thead><tr><th></th><th>x</th><th>formatted_address</th></tr><tr><th></th><th>Int64⍰</th><th>String⍰</th></tr></thead><tbody><p>6 rows × 12 columns (omitted printing of 10 columns)</p><tr><th>1</th><td>8</td><td>34/48 Reyburn St, Whangarei, 0140, New Zealand</td></tr><tr><th>2</th><td>9</td><td>15 Rust Ave, Whangarei, 0110, New Zealand</td></tr><tr><th>3</th><td>10</td><td>Whangarei, Vinetown 0110, New Zealand</td></tr><tr><th>4</th><td>11</td><td>157 Kiripaka Rd, Tikipunga, Whangarei 0112, New Zealand</td></tr><tr><th>5</th><td>12</td><td>15 Kensington Ave, Kensington, Whangarei 0112, New Zealand</td></tr><tr><th>6</th><td>13</td><td>Tohora House, Hospital Campus, Private Bag 9742, 0148, Whangarei, New Zealand</td></tr></tbody></table>"
      ],
      "text/latex": [
       "\\begin{tabular}{r|ccc}\n",
       "\t& x & formatted\\_address & \\\\\n",
       "\t\\hline\n",
       "\t& Int64⍰ & String⍰ & \\\\\n",
       "\t\\hline\n",
       "\t1 & 8 & 34/48 Reyburn St, Whangarei, 0140, New Zealand & $\\dots$ \\\\\n",
       "\t2 & 9 & 15 Rust Ave, Whangarei, 0110, New Zealand & $\\dots$ \\\\\n",
       "\t3 & 10 & Whangarei, Vinetown 0110, New Zealand & $\\dots$ \\\\\n",
       "\t4 & 11 & 157 Kiripaka Rd, Tikipunga, Whangarei 0112, New Zealand & $\\dots$ \\\\\n",
       "\t5 & 12 & 15 Kensington Ave, Kensington, Whangarei 0112, New Zealand & $\\dots$ \\\\\n",
       "\t6 & 13 & Tohora House, Hospital Campus, Private Bag 9742, 0148, Whangarei, New Zealand & $\\dots$ \\\\\n",
       "\\end{tabular}\n"
      ],
      "text/plain": [
       "6×12 DataFrame. Omitted printing of 11 columns\n",
       "│ Row │ x      │\n",
       "│     │ \u001b[90mInt64⍰\u001b[39m │\n",
       "├─────┼────────┤\n",
       "│ 1   │ 8      │\n",
       "│ 2   │ 9      │\n",
       "│ 3   │ 10     │\n",
       "│ 4   │ 11     │\n",
       "│ 5   │ 12     │\n",
       "│ 6   │ 13     │"
      ]
     },
     "execution_count": 26,
     "metadata": {},
     "output_type": "execute_result"
    }
   ],
   "source": [
    "tail(hospital_df)"
   ]
  },
  {
   "cell_type": "code",
   "execution_count": 27,
   "metadata": {},
   "outputs": [
    {
     "data": {
      "text/plain": [
       "12-element Array{Symbol,1}:\n",
       " :x                 \n",
       " :formatted_address \n",
       " :icon              \n",
       " :id                \n",
       " :name              \n",
       " :place_id          \n",
       " :rating            \n",
       " :reference         \n",
       " :user_ratings_total\n",
       " :lat               \n",
       " :long              \n",
       " :city              "
      ]
     },
     "execution_count": 27,
     "metadata": {},
     "output_type": "execute_result"
    }
   ],
   "source": [
    "names(hospital_df)"
   ]
  },
  {
   "cell_type": "code",
   "execution_count": 28,
   "metadata": {},
   "outputs": [
    {
     "data": {
      "text/html": [
       "<table class=\"data-frame\"><thead><tr><th></th><th>id</th><th>hospital_address</th></tr><tr><th></th><th>Int64⍰</th><th>String⍰</th></tr></thead><tbody><p>501 rows × 12 columns (omitted printing of 10 columns)</p><tr><th>1</th><td>1</td><td>100 Hospital Rd, Otahuhu, Auckland 2025, New Zealand</td></tr><tr><th>2</th><td>2</td><td>2 Park Rd, Grafton, Auckland 1023, New Zealand</td></tr><tr><th>3</th><td>3</td><td>124 Shakespeare Rd, Takapuna, Auckland 0620, New Zealand</td></tr><tr><th>4</th><td>4</td><td>214 Green Ln W, Epsom, Auckland 1051, New Zealand</td></tr><tr><th>5</th><td>5</td><td>55-75 Lincoln Rd, Henderson, Auckland 0610, New Zealand</td></tr><tr><th>6</th><td>6</td><td>98 Mountain Rd, Epsom, Auckland 1023, New Zealand</td></tr><tr><th>7</th><td>7</td><td>Level 7/214 Green Ln W, Greenlane, Auckland 1051, New Zealand</td></tr><tr><th>8</th><td>8</td><td>100 Hospital Rd, Middlemore Hospital, Auckland 2025, New Zealand</td></tr><tr><th>9</th><td>9</td><td>20 Titoki St, Parnell, Auckland 1052, New Zealand</td></tr><tr><th>10</th><td>10</td><td>125 Ormiston Rd, Flat Bush, Auckland 2016, New Zealand</td></tr><tr><th>11</th><td>11</td><td>90 Green Ln E, Remuera, Auckland 1051, New Zealand</td></tr><tr><th>12</th><td>12</td><td>901 Great South Rd, Manukau, Auckland 2104, New Zealand</td></tr><tr><th>13</th><td>13</td><td>214 Green Ln W, Epsom, Auckland 1051, New Zealand</td></tr><tr><th>14</th><td>14</td><td>32 Claude Rd, Greenlane, Auckland 1051, New Zealand</td></tr><tr><th>15</th><td>15</td><td>86 Friesian Dr, Mangere, Auckland 2022, New Zealand</td></tr><tr><th>16</th><td>16</td><td>20 Lincoln Rd, Henderson, Auckland 0610, New Zealand</td></tr><tr><th>17</th><td>17</td><td>105 Hospital Rd, Middlemore Hospital, Auckland 2025, New Zealand</td></tr><tr><th>18</th><td>18</td><td>12 Coronation St, Belmont, Auckland 0622, New Zealand</td></tr><tr><th>19</th><td>19</td><td>260 Botany Rd, Golflands, Auckland 2013, New Zealand</td></tr><tr><th>20</th><td>20</td><td>12 Umere Cres, Ellerslie, Auckland 1051, New Zealand</td></tr><tr><th>21</th><td>21</td><td>98 Mountain Rd, Epsom, Auckland 1023, New Zealand</td></tr><tr><th>22</th><td>22</td><td>Level 9/2 Park Rd, Grafton, Auckland 1023, New Zealand</td></tr><tr><th>23</th><td>23</td><td>10 Macmurray Rd, Remuera, Auckland 1050, New Zealand</td></tr><tr><th>24</th><td>24</td><td>19 Denver Ave, Henderson, Auckland 0612, New Zealand</td></tr><tr><th>25</th><td>25</td><td>90 Shaftesbury Ave, Point Chevalier, Auckland 1022, New Zealand</td></tr><tr><th>26</th><td>26</td><td>539a Mount Albert Rd, Three Kings, Auckland 1042, New Zealand</td></tr><tr><th>27</th><td>27</td><td>Grafton, Auckland 1010, New Zealand</td></tr><tr><th>28</th><td>28</td><td>100A Hospital Rd, Middlemore Hospital, Auckland 2025, New Zealand</td></tr><tr><th>29</th><td>29</td><td>33/37 Paramount Dr, Henderson, Auckland 0610, New Zealand</td></tr><tr><th>30</th><td>30</td><td>Ascot Office Park 93-95 Ascot Ave, Greenlane East, Auckland 1051, New Zealand</td></tr><tr><th>&vellip;</th><td>&vellip;</td><td>&vellip;</td></tr></tbody></table>"
      ],
      "text/latex": [
       "\\begin{tabular}{r|ccc}\n",
       "\t& id & hospital\\_address & \\\\\n",
       "\t\\hline\n",
       "\t& Int64⍰ & String⍰ & \\\\\n",
       "\t\\hline\n",
       "\t1 & 1 & 100 Hospital Rd, Otahuhu, Auckland 2025, New Zealand & $\\dots$ \\\\\n",
       "\t2 & 2 & 2 Park Rd, Grafton, Auckland 1023, New Zealand & $\\dots$ \\\\\n",
       "\t3 & 3 & 124 Shakespeare Rd, Takapuna, Auckland 0620, New Zealand & $\\dots$ \\\\\n",
       "\t4 & 4 & 214 Green Ln W, Epsom, Auckland 1051, New Zealand & $\\dots$ \\\\\n",
       "\t5 & 5 & 55-75 Lincoln Rd, Henderson, Auckland 0610, New Zealand & $\\dots$ \\\\\n",
       "\t6 & 6 & 98 Mountain Rd, Epsom, Auckland 1023, New Zealand & $\\dots$ \\\\\n",
       "\t7 & 7 & Level 7/214 Green Ln W, Greenlane, Auckland 1051, New Zealand & $\\dots$ \\\\\n",
       "\t8 & 8 & 100 Hospital Rd, Middlemore Hospital, Auckland 2025, New Zealand & $\\dots$ \\\\\n",
       "\t9 & 9 & 20 Titoki St, Parnell, Auckland 1052, New Zealand & $\\dots$ \\\\\n",
       "\t10 & 10 & 125 Ormiston Rd, Flat Bush, Auckland 2016, New Zealand & $\\dots$ \\\\\n",
       "\t11 & 11 & 90 Green Ln E, Remuera, Auckland 1051, New Zealand & $\\dots$ \\\\\n",
       "\t12 & 12 & 901 Great South Rd, Manukau, Auckland 2104, New Zealand & $\\dots$ \\\\\n",
       "\t13 & 13 & 214 Green Ln W, Epsom, Auckland 1051, New Zealand & $\\dots$ \\\\\n",
       "\t14 & 14 & 32 Claude Rd, Greenlane, Auckland 1051, New Zealand & $\\dots$ \\\\\n",
       "\t15 & 15 & 86 Friesian Dr, Mangere, Auckland 2022, New Zealand & $\\dots$ \\\\\n",
       "\t16 & 16 & 20 Lincoln Rd, Henderson, Auckland 0610, New Zealand & $\\dots$ \\\\\n",
       "\t17 & 17 & 105 Hospital Rd, Middlemore Hospital, Auckland 2025, New Zealand & $\\dots$ \\\\\n",
       "\t18 & 18 & 12 Coronation St, Belmont, Auckland 0622, New Zealand & $\\dots$ \\\\\n",
       "\t19 & 19 & 260 Botany Rd, Golflands, Auckland 2013, New Zealand & $\\dots$ \\\\\n",
       "\t20 & 20 & 12 Umere Cres, Ellerslie, Auckland 1051, New Zealand & $\\dots$ \\\\\n",
       "\t21 & 21 & 98 Mountain Rd, Epsom, Auckland 1023, New Zealand & $\\dots$ \\\\\n",
       "\t22 & 22 & Level 9/2 Park Rd, Grafton, Auckland 1023, New Zealand & $\\dots$ \\\\\n",
       "\t23 & 23 & 10 Macmurray Rd, Remuera, Auckland 1050, New Zealand & $\\dots$ \\\\\n",
       "\t24 & 24 & 19 Denver Ave, Henderson, Auckland 0612, New Zealand & $\\dots$ \\\\\n",
       "\t25 & 25 & 90 Shaftesbury Ave, Point Chevalier, Auckland 1022, New Zealand & $\\dots$ \\\\\n",
       "\t26 & 26 & 539a Mount Albert Rd, Three Kings, Auckland 1042, New Zealand & $\\dots$ \\\\\n",
       "\t27 & 27 & Grafton, Auckland 1010, New Zealand & $\\dots$ \\\\\n",
       "\t28 & 28 & 100A Hospital Rd, Middlemore Hospital, Auckland 2025, New Zealand & $\\dots$ \\\\\n",
       "\t29 & 29 & 33/37 Paramount Dr, Henderson, Auckland 0610, New Zealand & $\\dots$ \\\\\n",
       "\t30 & 30 & Ascot Office Park 93-95 Ascot Ave, Greenlane East, Auckland 1051, New Zealand & $\\dots$ \\\\\n",
       "\t$\\dots$ & $\\dots$ & $\\dots$ &  \\\\\n",
       "\\end{tabular}\n"
      ],
      "text/plain": [
       "501×12 DataFrame. Omitted printing of 11 columns\n",
       "│ Row │ id     │\n",
       "│     │ \u001b[90mInt64⍰\u001b[39m │\n",
       "├─────┼────────┤\n",
       "│ 1   │ 1      │\n",
       "│ 2   │ 2      │\n",
       "│ 3   │ 3      │\n",
       "│ 4   │ 4      │\n",
       "│ 5   │ 5      │\n",
       "│ 6   │ 6      │\n",
       "│ 7   │ 7      │\n",
       "│ 8   │ 8      │\n",
       "│ 9   │ 9      │\n",
       "│ 10  │ 10     │\n",
       "⋮\n",
       "│ 491 │ 3      │\n",
       "│ 492 │ 4      │\n",
       "│ 493 │ 5      │\n",
       "│ 494 │ 6      │\n",
       "│ 495 │ 7      │\n",
       "│ 496 │ 8      │\n",
       "│ 497 │ 9      │\n",
       "│ 498 │ 10     │\n",
       "│ 499 │ 11     │\n",
       "│ 500 │ 12     │\n",
       "│ 501 │ 13     │"
      ]
     },
     "execution_count": 28,
     "metadata": {},
     "output_type": "execute_result"
    }
   ],
   "source": [
    "rename!(hospital_df, Dict(:id=>:hospital_id,:x=>:id,:formatted_address=>:hospital_address,:name=>:hospital_name,:lat=>:hospital_latitude,:long=>:hospital_longitude))"
   ]
  },
  {
   "cell_type": "code",
   "execution_count": 29,
   "metadata": {},
   "outputs": [
    {
     "data": {
      "text/plain": [
       "12-element Array{Symbol,1}:\n",
       " :id                \n",
       " :hospital_address  \n",
       " :icon              \n",
       " :hospital_id       \n",
       " :hospital_name     \n",
       " :place_id          \n",
       " :rating            \n",
       " :reference         \n",
       " :user_ratings_total\n",
       " :hospital_latitude \n",
       " :hospital_longitude\n",
       " :city              "
      ]
     },
     "execution_count": 29,
     "metadata": {},
     "output_type": "execute_result"
    }
   ],
   "source": [
    "names(hospital_df)"
   ]
  },
  {
   "cell_type": "code",
   "execution_count": 30,
   "metadata": {},
   "outputs": [
    {
     "data": {
      "text/plain": [
       "12-element Array{Symbol,1}:\n",
       " :x                 \n",
       " :formatted_address \n",
       " :icon              \n",
       " :id                \n",
       " :name              \n",
       " :place_id          \n",
       " :rating            \n",
       " :reference         \n",
       " :user_ratings_total\n",
       " :lat               \n",
       " :long              \n",
       " :city              "
      ]
     },
     "execution_count": 30,
     "metadata": {},
     "output_type": "execute_result"
    }
   ],
   "source": [
    "names(schools_df)"
   ]
  },
  {
   "cell_type": "code",
   "execution_count": 31,
   "metadata": {},
   "outputs": [
    {
     "data": {
      "text/html": [
       "<table class=\"data-frame\"><thead><tr><th></th><th>id</th><th>school_address</th><th>icon</th></tr><tr><th></th><th>Int64⍰</th><th>String⍰</th><th>String⍰</th></tr></thead><tbody><p>900 rows × 12 columns (omitted printing of 9 columns)</p><tr><th>1</th><td>1</td><td>5 Helios Pl, Titirangi, Auckland 0604, New Zealand</td><td>https://maps.gstatic.com/mapfiles/place_api/icons/school-71.png</td></tr><tr><th>2</th><td>2</td><td>360 Albany Hwy, Albany, Auckland 0632, New Zealand</td><td>https://maps.gstatic.com/mapfiles/place_api/icons/school-71.png</td></tr><tr><th>3</th><td>3</td><td>Clyde St, Epsom, Auckland 1051, New Zealand</td><td>https://maps.gstatic.com/mapfiles/place_api/icons/school-71.png</td></tr><tr><th>4</th><td>4</td><td>536 Albany Hwy, Albany, Auckland 0632, New Zealand</td><td>https://maps.gstatic.com/mapfiles/place_api/icons/school-71.png</td></tr><tr><th>5</th><td>5</td><td>37 Heaphy St, Blockhouse Bay, Auckland 0600, New Zealand</td><td>https://maps.gstatic.com/mapfiles/place_api/icons/school-71.png</td></tr><tr><th>6</th><td>6</td><td>122 Market Rd, Epsom, Auckland 1051, New Zealand</td><td>https://maps.gstatic.com/mapfiles/place_api/icons/school-71.png</td></tr><tr><th>7</th><td>7</td><td>27 Esplanade Rd, Mount Eden, Auckland 1024, New Zealand</td><td>https://maps.gstatic.com/mapfiles/place_api/icons/school-71.png</td></tr><tr><th>8</th><td>8</td><td>39 Somerville Rd, Somerville, Auckland 2014, New Zealand</td><td>https://maps.gstatic.com/mapfiles/place_api/icons/school-71.png</td></tr><tr><th>9</th><td>9</td><td>258 Remuera Road, Remuera, Auckland 1050, New Zealand</td><td>https://maps.gstatic.com/mapfiles/place_api/icons/school-71.png</td></tr><tr><th>10</th><td>10</td><td>55-87 Mountain Rd, Epsom, Auckland 1023, New Zealand</td><td>https://maps.gstatic.com/mapfiles/place_api/icons/school-71.png</td></tr><tr><th>11</th><td>11</td><td>21 Henderson Valley Rd, Henderson, Auckland 0612, New Zealand</td><td>https://maps.gstatic.com/mapfiles/place_api/icons/school-71.png</td></tr><tr><th>12</th><td>12</td><td>11 New St, St Marys Bay, Auckland 1011, New Zealand</td><td>https://maps.gstatic.com/mapfiles/place_api/icons/school-71.png</td></tr><tr><th>13</th><td>13</td><td>514 Remuera Rd, Remuera, Auckland 1050, New Zealand</td><td>https://maps.gstatic.com/mapfiles/place_api/icons/school-71.png</td></tr><tr><th>14</th><td>14</td><td>19 Brixton Rd, Mount Eden, Auckland 1024, New Zealand</td><td>https://maps.gstatic.com/mapfiles/place_api/icons/school-71.png</td></tr><tr><th>15</th><td>15</td><td>275 Ormiston Rd, Manukau, Auckland 2016, New Zealand</td><td>https://maps.gstatic.com/mapfiles/place_api/icons/school-71.png</td></tr><tr><th>16</th><td>16</td><td>19 Appleby Rd, Albany, Auckland 0632, New Zealand</td><td>https://maps.gstatic.com/mapfiles/place_api/icons/school-71.png</td></tr><tr><th>17</th><td>17</td><td>23 Mountain Rd, Grafton, Auckland 1023, New Zealand</td><td>https://maps.gstatic.com/mapfiles/place_api/icons/school-71.png</td></tr><tr><th>18</th><td>18</td><td>55 Amy St, Ellerslie, Auckland 1051, New Zealand</td><td>https://maps.gstatic.com/mapfiles/place_api/icons/school-71.png</td></tr><tr><th>19</th><td>19</td><td>108 Shakespeare Rd, Milford, Auckland 0620, New Zealand</td><td>https://maps.gstatic.com/mapfiles/place_api/icons/school-71.png</td></tr><tr><th>20</th><td>20</td><td>95 Wellington St, Freemans Bay, Auckland 1011, New Zealand</td><td>https://maps.gstatic.com/mapfiles/place_api/icons/school-71.png</td></tr><tr><th>21</th><td>21</td><td>5 Helios Pl, Titirangi, Auckland 0604, New Zealand</td><td>https://maps.gstatic.com/mapfiles/place_api/icons/school-71.png</td></tr><tr><th>22</th><td>22</td><td>360 Albany Hwy, Albany, Auckland 0632, New Zealand</td><td>https://maps.gstatic.com/mapfiles/place_api/icons/school-71.png</td></tr><tr><th>23</th><td>23</td><td>Clyde St, Epsom, Auckland 1051, New Zealand</td><td>https://maps.gstatic.com/mapfiles/place_api/icons/school-71.png</td></tr><tr><th>24</th><td>24</td><td>536 Albany Hwy, Albany, Auckland 0632, New Zealand</td><td>https://maps.gstatic.com/mapfiles/place_api/icons/school-71.png</td></tr><tr><th>25</th><td>25</td><td>37 Heaphy St, Blockhouse Bay, Auckland 0600, New Zealand</td><td>https://maps.gstatic.com/mapfiles/place_api/icons/school-71.png</td></tr><tr><th>26</th><td>26</td><td>122 Market Rd, Epsom, Auckland 1051, New Zealand</td><td>https://maps.gstatic.com/mapfiles/place_api/icons/school-71.png</td></tr><tr><th>27</th><td>27</td><td>27 Esplanade Rd, Mount Eden, Auckland 1024, New Zealand</td><td>https://maps.gstatic.com/mapfiles/place_api/icons/school-71.png</td></tr><tr><th>28</th><td>28</td><td>39 Somerville Rd, Somerville, Auckland 2014, New Zealand</td><td>https://maps.gstatic.com/mapfiles/place_api/icons/school-71.png</td></tr><tr><th>29</th><td>29</td><td>258 Remuera Road, Remuera, Auckland 1050, New Zealand</td><td>https://maps.gstatic.com/mapfiles/place_api/icons/school-71.png</td></tr><tr><th>30</th><td>30</td><td>55-87 Mountain Rd, Epsom, Auckland 1023, New Zealand</td><td>https://maps.gstatic.com/mapfiles/place_api/icons/school-71.png</td></tr><tr><th>&vellip;</th><td>&vellip;</td><td>&vellip;</td><td>&vellip;</td></tr></tbody></table>"
      ],
      "text/latex": [
       "\\begin{tabular}{r|cccc}\n",
       "\t& id & school\\_address & icon & \\\\\n",
       "\t\\hline\n",
       "\t& Int64⍰ & String⍰ & String⍰ & \\\\\n",
       "\t\\hline\n",
       "\t1 & 1 & 5 Helios Pl, Titirangi, Auckland 0604, New Zealand & https://maps.gstatic.com/mapfiles/place\\_api/icons/school-71.png & $\\dots$ \\\\\n",
       "\t2 & 2 & 360 Albany Hwy, Albany, Auckland 0632, New Zealand & https://maps.gstatic.com/mapfiles/place\\_api/icons/school-71.png & $\\dots$ \\\\\n",
       "\t3 & 3 & Clyde St, Epsom, Auckland 1051, New Zealand & https://maps.gstatic.com/mapfiles/place\\_api/icons/school-71.png & $\\dots$ \\\\\n",
       "\t4 & 4 & 536 Albany Hwy, Albany, Auckland 0632, New Zealand & https://maps.gstatic.com/mapfiles/place\\_api/icons/school-71.png & $\\dots$ \\\\\n",
       "\t5 & 5 & 37 Heaphy St, Blockhouse Bay, Auckland 0600, New Zealand & https://maps.gstatic.com/mapfiles/place\\_api/icons/school-71.png & $\\dots$ \\\\\n",
       "\t6 & 6 & 122 Market Rd, Epsom, Auckland 1051, New Zealand & https://maps.gstatic.com/mapfiles/place\\_api/icons/school-71.png & $\\dots$ \\\\\n",
       "\t7 & 7 & 27 Esplanade Rd, Mount Eden, Auckland 1024, New Zealand & https://maps.gstatic.com/mapfiles/place\\_api/icons/school-71.png & $\\dots$ \\\\\n",
       "\t8 & 8 & 39 Somerville Rd, Somerville, Auckland 2014, New Zealand & https://maps.gstatic.com/mapfiles/place\\_api/icons/school-71.png & $\\dots$ \\\\\n",
       "\t9 & 9 & 258 Remuera Road, Remuera, Auckland 1050, New Zealand & https://maps.gstatic.com/mapfiles/place\\_api/icons/school-71.png & $\\dots$ \\\\\n",
       "\t10 & 10 & 55-87 Mountain Rd, Epsom, Auckland 1023, New Zealand & https://maps.gstatic.com/mapfiles/place\\_api/icons/school-71.png & $\\dots$ \\\\\n",
       "\t11 & 11 & 21 Henderson Valley Rd, Henderson, Auckland 0612, New Zealand & https://maps.gstatic.com/mapfiles/place\\_api/icons/school-71.png & $\\dots$ \\\\\n",
       "\t12 & 12 & 11 New St, St Marys Bay, Auckland 1011, New Zealand & https://maps.gstatic.com/mapfiles/place\\_api/icons/school-71.png & $\\dots$ \\\\\n",
       "\t13 & 13 & 514 Remuera Rd, Remuera, Auckland 1050, New Zealand & https://maps.gstatic.com/mapfiles/place\\_api/icons/school-71.png & $\\dots$ \\\\\n",
       "\t14 & 14 & 19 Brixton Rd, Mount Eden, Auckland 1024, New Zealand & https://maps.gstatic.com/mapfiles/place\\_api/icons/school-71.png & $\\dots$ \\\\\n",
       "\t15 & 15 & 275 Ormiston Rd, Manukau, Auckland 2016, New Zealand & https://maps.gstatic.com/mapfiles/place\\_api/icons/school-71.png & $\\dots$ \\\\\n",
       "\t16 & 16 & 19 Appleby Rd, Albany, Auckland 0632, New Zealand & https://maps.gstatic.com/mapfiles/place\\_api/icons/school-71.png & $\\dots$ \\\\\n",
       "\t17 & 17 & 23 Mountain Rd, Grafton, Auckland 1023, New Zealand & https://maps.gstatic.com/mapfiles/place\\_api/icons/school-71.png & $\\dots$ \\\\\n",
       "\t18 & 18 & 55 Amy St, Ellerslie, Auckland 1051, New Zealand & https://maps.gstatic.com/mapfiles/place\\_api/icons/school-71.png & $\\dots$ \\\\\n",
       "\t19 & 19 & 108 Shakespeare Rd, Milford, Auckland 0620, New Zealand & https://maps.gstatic.com/mapfiles/place\\_api/icons/school-71.png & $\\dots$ \\\\\n",
       "\t20 & 20 & 95 Wellington St, Freemans Bay, Auckland 1011, New Zealand & https://maps.gstatic.com/mapfiles/place\\_api/icons/school-71.png & $\\dots$ \\\\\n",
       "\t21 & 21 & 5 Helios Pl, Titirangi, Auckland 0604, New Zealand & https://maps.gstatic.com/mapfiles/place\\_api/icons/school-71.png & $\\dots$ \\\\\n",
       "\t22 & 22 & 360 Albany Hwy, Albany, Auckland 0632, New Zealand & https://maps.gstatic.com/mapfiles/place\\_api/icons/school-71.png & $\\dots$ \\\\\n",
       "\t23 & 23 & Clyde St, Epsom, Auckland 1051, New Zealand & https://maps.gstatic.com/mapfiles/place\\_api/icons/school-71.png & $\\dots$ \\\\\n",
       "\t24 & 24 & 536 Albany Hwy, Albany, Auckland 0632, New Zealand & https://maps.gstatic.com/mapfiles/place\\_api/icons/school-71.png & $\\dots$ \\\\\n",
       "\t25 & 25 & 37 Heaphy St, Blockhouse Bay, Auckland 0600, New Zealand & https://maps.gstatic.com/mapfiles/place\\_api/icons/school-71.png & $\\dots$ \\\\\n",
       "\t26 & 26 & 122 Market Rd, Epsom, Auckland 1051, New Zealand & https://maps.gstatic.com/mapfiles/place\\_api/icons/school-71.png & $\\dots$ \\\\\n",
       "\t27 & 27 & 27 Esplanade Rd, Mount Eden, Auckland 1024, New Zealand & https://maps.gstatic.com/mapfiles/place\\_api/icons/school-71.png & $\\dots$ \\\\\n",
       "\t28 & 28 & 39 Somerville Rd, Somerville, Auckland 2014, New Zealand & https://maps.gstatic.com/mapfiles/place\\_api/icons/school-71.png & $\\dots$ \\\\\n",
       "\t29 & 29 & 258 Remuera Road, Remuera, Auckland 1050, New Zealand & https://maps.gstatic.com/mapfiles/place\\_api/icons/school-71.png & $\\dots$ \\\\\n",
       "\t30 & 30 & 55-87 Mountain Rd, Epsom, Auckland 1023, New Zealand & https://maps.gstatic.com/mapfiles/place\\_api/icons/school-71.png & $\\dots$ \\\\\n",
       "\t$\\dots$ & $\\dots$ & $\\dots$ & $\\dots$ &  \\\\\n",
       "\\end{tabular}\n"
      ],
      "text/plain": [
       "900×12 DataFrame. Omitted printing of 10 columns\n",
       "│ Row │ id     │ school_address                                               │\n",
       "│     │ \u001b[90mInt64⍰\u001b[39m │ \u001b[90mUnion{Missing, String}\u001b[39m                                       │\n",
       "├─────┼────────┼──────────────────────────────────────────────────────────────┤\n",
       "│ 1   │ 1      │ 5 Helios Pl, Titirangi, Auckland 0604, New Zealand           │\n",
       "│ 2   │ 2      │ 360 Albany Hwy, Albany, Auckland 0632, New Zealand           │\n",
       "│ 3   │ 3      │ Clyde St, Epsom, Auckland 1051, New Zealand                  │\n",
       "│ 4   │ 4      │ 536 Albany Hwy, Albany, Auckland 0632, New Zealand           │\n",
       "│ 5   │ 5      │ 37 Heaphy St, Blockhouse Bay, Auckland 0600, New Zealand     │\n",
       "│ 6   │ 6      │ 122 Market Rd, Epsom, Auckland 1051, New Zealand             │\n",
       "│ 7   │ 7      │ 27 Esplanade Rd, Mount Eden, Auckland 1024, New Zealand      │\n",
       "│ 8   │ 8      │ 39 Somerville Rd, Somerville, Auckland 2014, New Zealand     │\n",
       "│ 9   │ 9      │ 258 Remuera Road, Remuera, Auckland 1050, New Zealand        │\n",
       "│ 10  │ 10     │ 55-87 Mountain Rd, Epsom, Auckland 1023, New Zealand         │\n",
       "⋮\n",
       "│ 890 │ 50     │ 13 Murdoch Cres, Raumanga, Whangarei 0110, New Zealand       │\n",
       "│ 891 │ 51     │ 64 Murdoch Cres, Raumanga, Whangarei 0110, New Zealand       │\n",
       "│ 892 │ 52     │ 51 Raumanga Valley Rd, Raumanga, Whangarei 0110, New Zealand │\n",
       "│ 893 │ 53     │ 63 Station Road, Kamo, Whangarei 0112, New Zealand           │\n",
       "│ 894 │ 54     │ 38 Kohe St, Parahaki, Whangarei 0112, New Zealand            │\n",
       "│ 895 │ 55     │ 185 Lower Dent St, Whangarei, 0110, New Zealand              │\n",
       "│ 896 │ 56     │ 45 Waverley St, Onerahi, Sherwood Rise 0110, New Zealand     │\n",
       "│ 897 │ 57     │ Bdwy Ave, Regent, Palmerston North 0112, New Zealand         │\n",
       "│ 898 │ 58     │ 83 Fourth Ave, Woodhill, Whangarei 0110, New Zealand         │\n",
       "│ 899 │ 59     │ 10 Portland School Rd, Portland 0178, New Zealand            │\n",
       "│ 900 │ 60     │ 12 Gumdigger Pl, Raumanga, Whangarei 0110, New Zealand       │"
      ]
     },
     "execution_count": 31,
     "metadata": {},
     "output_type": "execute_result"
    }
   ],
   "source": [
    "rename!(schools_df, Dict(:id=>:school_id,:x=>:id,:formatted_address=>:school_address,:name=>:school_name,:lat=>:school_latitude,:long=>:school_longitude))"
   ]
  },
  {
   "cell_type": "code",
   "execution_count": 32,
   "metadata": {},
   "outputs": [
    {
     "data": {
      "text/plain": [
       "12-element Array{Symbol,1}:\n",
       " :id                \n",
       " :school_address    \n",
       " :icon              \n",
       " :school_id         \n",
       " :school_name       \n",
       " :place_id          \n",
       " :rating            \n",
       " :reference         \n",
       " :user_ratings_total\n",
       " :school_latitude   \n",
       " :school_longitude  \n",
       " :city              "
      ]
     },
     "execution_count": 32,
     "metadata": {},
     "output_type": "execute_result"
    }
   ],
   "source": [
    "names(schools_df)"
   ]
  },
  {
   "cell_type": "code",
   "execution_count": 33,
   "metadata": {},
   "outputs": [
    {
     "name": "stderr",
     "output_type": "stream",
     "text": [
      "┌ Warning: `delete!(df::AbstractDataFrame, cols::Any)` is deprecated, use `select!(df, Not(cols))` instead.\n",
      "│   caller = iterate at none:0 [inlined]\n",
      "└ @ Core .\\none:0\n",
      "┌ Warning: `delete!(df::AbstractDataFrame, cols::Any)` is deprecated, use `select!(df, Not(cols))` instead.\n",
      "│   caller = iterate at none:0 [inlined]\n",
      "└ @ Core .\\none:0\n"
     ]
    },
    {
     "data": {
      "text/plain": [
       "2×4 Array{DataFrame,2}:\n",
       " 900×8 DataFrame. Omitted printing of 7 columns\n",
       "│ Row │ school_address                                               │\n",
       "│     │ \u001b[90mUnion{Missing, String}\u001b[39m                                       │\n",
       "├─────┼──────────────────────────────────────────────────────────────┤\n",
       "│ 1   │ 5 Helios Pl, Titirangi, Auckland 0604, New Zealand           │\n",
       "│ 2   │ 360 Albany Hwy, Albany, Auckland 0632, New Zealand           │\n",
       "│ 3   │ Clyde St, Epsom, Auckland 1051, New Zealand                  │\n",
       "│ 4   │ 536 Albany Hwy, Albany, Auckland 0632, New Zealand           │\n",
       "│ 5   │ 37 Heaphy St, Blockhouse Bay, Auckland 0600, New Zealand     │\n",
       "│ 6   │ 122 Market Rd, Epsom, Auckland 1051, New Zealand             │\n",
       "│ 7   │ 27 Esplanade Rd, Mount Eden, Auckland 1024, New Zealand      │\n",
       "│ 8   │ 39 Somerville Rd, Somerville, Auckland 2014, New Zealand     │\n",
       "│ 9   │ 258 Remuera Road, Remuera, Auckland 1050, New Zealand        │\n",
       "│ 10  │ 55-87 Mountain Rd, Epsom, Auckland 1023, New Zealand         │\n",
       "⋮\n",
       "│ 890 │ 13 Murdoch Cres, Raumanga, Whangarei 0110, New Zealand       │\n",
       "│ 891 │ 64 Murdoch Cres, Raumanga, Whangarei 0110, New Zealand       │\n",
       "│ 892 │ 51 Raumanga Valley Rd, Raumanga, Whangarei 0110, New Zealand │\n",
       "│ 893 │ 63 Station Road, Kamo, Whangarei 0112, New Zealand           │\n",
       "│ 894 │ 38 Kohe St, Parahaki, Whangarei 0112, New Zealand            │\n",
       "│ 895 │ 185 Lower Dent St, Whangarei, 0110, New Zealand              │\n",
       "│ 896 │ 45 Waverley St, Onerahi, Sherwood Rise 0110, New Zealand     │\n",
       "│ 897 │ Bdwy Ave, Regent, Palmerston North 0112, New Zealand         │\n",
       "│ 898 │ 83 Fourth Ave, Woodhill, Whangarei 0110, New Zealand         │\n",
       "│ 899 │ 10 Portland School Rd, Portland 0178, New Zealand            │\n",
       "│ 900 │ 12 Gumdigger Pl, Raumanga, Whangarei 0110, New Zealand       │  …  900×8 DataFrame. Omitted printing of 7 columns\n",
       "│ Row │ school_address                                               │\n",
       "│     │ \u001b[90mUnion{Missing, String}\u001b[39m                                       │\n",
       "├─────┼──────────────────────────────────────────────────────────────┤\n",
       "│ 1   │ 5 Helios Pl, Titirangi, Auckland 0604, New Zealand           │\n",
       "│ 2   │ 360 Albany Hwy, Albany, Auckland 0632, New Zealand           │\n",
       "│ 3   │ Clyde St, Epsom, Auckland 1051, New Zealand                  │\n",
       "│ 4   │ 536 Albany Hwy, Albany, Auckland 0632, New Zealand           │\n",
       "│ 5   │ 37 Heaphy St, Blockhouse Bay, Auckland 0600, New Zealand     │\n",
       "│ 6   │ 122 Market Rd, Epsom, Auckland 1051, New Zealand             │\n",
       "│ 7   │ 27 Esplanade Rd, Mount Eden, Auckland 1024, New Zealand      │\n",
       "│ 8   │ 39 Somerville Rd, Somerville, Auckland 2014, New Zealand     │\n",
       "│ 9   │ 258 Remuera Road, Remuera, Auckland 1050, New Zealand        │\n",
       "│ 10  │ 55-87 Mountain Rd, Epsom, Auckland 1023, New Zealand         │\n",
       "⋮\n",
       "│ 890 │ 13 Murdoch Cres, Raumanga, Whangarei 0110, New Zealand       │\n",
       "│ 891 │ 64 Murdoch Cres, Raumanga, Whangarei 0110, New Zealand       │\n",
       "│ 892 │ 51 Raumanga Valley Rd, Raumanga, Whangarei 0110, New Zealand │\n",
       "│ 893 │ 63 Station Road, Kamo, Whangarei 0112, New Zealand           │\n",
       "│ 894 │ 38 Kohe St, Parahaki, Whangarei 0112, New Zealand            │\n",
       "│ 895 │ 185 Lower Dent St, Whangarei, 0110, New Zealand              │\n",
       "│ 896 │ 45 Waverley St, Onerahi, Sherwood Rise 0110, New Zealand     │\n",
       "│ 897 │ Bdwy Ave, Regent, Palmerston North 0112, New Zealand         │\n",
       "│ 898 │ 83 Fourth Ave, Woodhill, Whangarei 0110, New Zealand         │\n",
       "│ 899 │ 10 Portland School Rd, Portland 0178, New Zealand            │\n",
       "│ 900 │ 12 Gumdigger Pl, Raumanga, Whangarei 0110, New Zealand       │\n",
       " 501×8 DataFrame. Omitted printing of 8 columns\n",
       "│ Row │ │     │ ├─────┼\n",
       "│ 1   │ │ 2   │ │ 3   │ │ 4   │ │ 5   │ │ 6   │ │ 7   │ │ 8   │ │ 9   │ │ 10  │ \n",
       "⋮\n",
       "│ 491 │ │ 492 │ │ 493 │ │ 494 │ │ 495 │ │ 496 │ │ 497 │ │ 498 │ │ 499 │ │ 500 │ │ 501 │                                                                                                                                                                                                                                                                                                                                                                                                                                                                                                                                                                                                                                                                                                                                                                                                                                                                                                                                                                                                                                                                                                                                                                                                                                                                                                                                                                                                                                                                                                                                                                                      501×8 DataFrame. Omitted printing of 8 columns\n",
       "│ Row │ │     │ ├─────┼\n",
       "│ 1   │ │ 2   │ │ 3   │ │ 4   │ │ 5   │ │ 6   │ │ 7   │ │ 8   │ │ 9   │ │ 10  │ \n",
       "⋮\n",
       "│ 491 │ │ 492 │ │ 493 │ │ 494 │ │ 495 │ │ 496 │ │ 497 │ │ 498 │ │ 499 │ │ 500 │ │ 501 │                                                                                                                                                                                                                                                                                                                                                                                                                                                                                                                                                                                                                                                                                                                                                                                                                                                                                                                                                                                                                                                                                                                                                                                                                                                                                                                                                                                                                                                                                                                                                                                 "
      ]
     },
     "execution_count": 33,
     "metadata": {},
     "output_type": "execute_result"
    }
   ],
   "source": [
    "[delete!(df,colname) for df in [schools_df,hospital_df], colname in [:id,:icon,:place_id,:reference]]"
   ]
  },
  {
   "cell_type": "code",
   "execution_count": 34,
   "metadata": {
    "collapsed": true,
    "jupyter": {
     "outputs_hidden": true
    }
   },
   "outputs": [
    {
     "data": {
      "text/html": [
       "<table class=\"data-frame\"><thead><tr><th></th><th>school_id</th><th>school_name</th><th>school_address</th></tr><tr><th></th><th>String⍰</th><th>String⍰</th><th>String⍰</th></tr></thead><tbody><p>900 rows × 8 columns (omitted printing of 5 columns)</p><tr><th>1</th><td>4f67a9048aec108a6642acd812a9e6d0ff6f1232</td><td>Titirangi Rudolf Steiner School</td><td>5 Helios Pl, Titirangi, Auckland 0604, New Zealand</td></tr><tr><th>2</th><td>28e2bc6a74b1fbc8855ca0258769a129ef99fa7f</td><td>Kristin School</td><td>360 Albany Hwy, Albany, Auckland 0632, New Zealand</td></tr><tr><th>3</th><td>bcd4b484a359bf83a2bc5cefdd2dc8d79155a8c2</td><td>Diocesan School for Girls</td><td>Clyde St, Epsom, Auckland 1051, New Zealand</td></tr><tr><th>4</th><td>b619a9b54c9702ef2d61e5505dfe364b0c1d40ca</td><td>Albany Senior High School</td><td>536 Albany Hwy, Albany, Auckland 0632, New Zealand</td></tr><tr><th>5</th><td>94acaf9123deaa54c819b9667e5a1d1864daf806</td><td>Auckland International College</td><td>37 Heaphy St, Blockhouse Bay, Auckland 0600, New Zealand</td></tr><tr><th>6</th><td>84d63852fd74de6f83111dfa5be2ce3a342ede8c</td><td>St Cuthbert's College</td><td>122 Market Rd, Epsom, Auckland 1051, New Zealand</td></tr><tr><th>7</th><td>52594f5afb3c0b057ce630de718e101a132c7e42</td><td>Ficino School</td><td>27 Esplanade Rd, Mount Eden, Auckland 1024, New Zealand</td></tr><tr><th>8</th><td>74c7157610d87ce2ced2941593e78cfad34bbeb9</td><td>Somerville Intermediate School</td><td>39 Somerville Rd, Somerville, Auckland 2014, New Zealand</td></tr><tr><th>9</th><td>a0e268c7bf3e0bcf146f3f16d77ed710ab6eaf03</td><td>King's School</td><td>258 Remuera Road, Remuera, Auckland 1050, New Zealand</td></tr><tr><th>10</th><td>29f5175a344711167e230772dc8b31be543bc00b</td><td>Auckland Grammar School</td><td>55-87 Mountain Rd, Epsom, Auckland 1023, New Zealand</td></tr><tr><th>11</th><td>c492f2e419c98ff3631d29c3b4b2a3b4fa78137a</td><td>Henderson High School</td><td>21 Henderson Valley Rd, Henderson, Auckland 0612, New Zealand</td></tr><tr><th>12</th><td>584ec64f1f6c9961af76f5c96fec4450b7357b81</td><td>St Marys College</td><td>11 New St, St Marys Bay, Auckland 1011, New Zealand</td></tr><tr><th>13</th><td>d79978515f3ed6b13fa287e5a81c6151ac5adff2</td><td>Saint Kentigern Girls' School</td><td>514 Remuera Rd, Remuera, Auckland 1050, New Zealand</td></tr><tr><th>14</th><td>faaff875b1b34317f8c16f9acbb31ae815e3105e</td><td>Balmoral School</td><td>19 Brixton Rd, Mount Eden, Auckland 1024, New Zealand</td></tr><tr><th>15</th><td>0eba29633cfba6293a4e901d195af24cdbefd3b9</td><td>Ormiston Senior College</td><td>275 Ormiston Rd, Manukau, Auckland 2016, New Zealand</td></tr><tr><th>16</th><td>b1d12c4306c0229495c2042d01128930d17d347d</td><td>Albany Junior High School</td><td>19 Appleby Rd, Albany, Auckland 0632, New Zealand</td></tr><tr><th>17</th><td>6816e7ad2a99e6c30d8ea34b7e1ae5e4ecabb9bb</td><td>St Peter\\x92s College</td><td>23 Mountain Rd, Grafton, Auckland 1023, New Zealand</td></tr><tr><th>18</th><td>306505c58091d5ae41116faddbc94d02a89bad00</td><td>Michael Park School</td><td>55 Amy St, Ellerslie, Auckland 1051, New Zealand</td></tr><tr><th>19</th><td>765d4b3f95deb38b0b8e470cf50e4e2f9d8416bc</td><td>Carmel College</td><td>108 Shakespeare Rd, Milford, Auckland 0620, New Zealand</td></tr><tr><th>20</th><td>7c4451106ed954024a904dff15c20e5c8310ec19</td><td>Freemans Bay School</td><td>95 Wellington St, Freemans Bay, Auckland 1011, New Zealand</td></tr><tr><th>21</th><td>4f67a9048aec108a6642acd812a9e6d0ff6f1232</td><td>Titirangi Rudolf Steiner School</td><td>5 Helios Pl, Titirangi, Auckland 0604, New Zealand</td></tr><tr><th>22</th><td>28e2bc6a74b1fbc8855ca0258769a129ef99fa7f</td><td>Kristin School</td><td>360 Albany Hwy, Albany, Auckland 0632, New Zealand</td></tr><tr><th>23</th><td>bcd4b484a359bf83a2bc5cefdd2dc8d79155a8c2</td><td>Diocesan School for Girls</td><td>Clyde St, Epsom, Auckland 1051, New Zealand</td></tr><tr><th>24</th><td>b619a9b54c9702ef2d61e5505dfe364b0c1d40ca</td><td>Albany Senior High School</td><td>536 Albany Hwy, Albany, Auckland 0632, New Zealand</td></tr><tr><th>25</th><td>94acaf9123deaa54c819b9667e5a1d1864daf806</td><td>Auckland International College</td><td>37 Heaphy St, Blockhouse Bay, Auckland 0600, New Zealand</td></tr><tr><th>26</th><td>84d63852fd74de6f83111dfa5be2ce3a342ede8c</td><td>St Cuthbert's College</td><td>122 Market Rd, Epsom, Auckland 1051, New Zealand</td></tr><tr><th>27</th><td>52594f5afb3c0b057ce630de718e101a132c7e42</td><td>Ficino School</td><td>27 Esplanade Rd, Mount Eden, Auckland 1024, New Zealand</td></tr><tr><th>28</th><td>74c7157610d87ce2ced2941593e78cfad34bbeb9</td><td>Somerville Intermediate School</td><td>39 Somerville Rd, Somerville, Auckland 2014, New Zealand</td></tr><tr><th>29</th><td>a0e268c7bf3e0bcf146f3f16d77ed710ab6eaf03</td><td>King's School</td><td>258 Remuera Road, Remuera, Auckland 1050, New Zealand</td></tr><tr><th>30</th><td>29f5175a344711167e230772dc8b31be543bc00b</td><td>Auckland Grammar School</td><td>55-87 Mountain Rd, Epsom, Auckland 1023, New Zealand</td></tr><tr><th>&vellip;</th><td>&vellip;</td><td>&vellip;</td><td>&vellip;</td></tr></tbody></table>"
      ],
      "text/latex": [
       "\\begin{tabular}{r|cccc}\n",
       "\t& school\\_id & school\\_name & school\\_address & \\\\\n",
       "\t\\hline\n",
       "\t& String⍰ & String⍰ & String⍰ & \\\\\n",
       "\t\\hline\n",
       "\t1 & 4f67a9048aec108a6642acd812a9e6d0ff6f1232 & Titirangi Rudolf Steiner School & 5 Helios Pl, Titirangi, Auckland 0604, New Zealand & $\\dots$ \\\\\n",
       "\t2 & 28e2bc6a74b1fbc8855ca0258769a129ef99fa7f & Kristin School & 360 Albany Hwy, Albany, Auckland 0632, New Zealand & $\\dots$ \\\\\n",
       "\t3 & bcd4b484a359bf83a2bc5cefdd2dc8d79155a8c2 & Diocesan School for Girls & Clyde St, Epsom, Auckland 1051, New Zealand & $\\dots$ \\\\\n",
       "\t4 & b619a9b54c9702ef2d61e5505dfe364b0c1d40ca & Albany Senior High School & 536 Albany Hwy, Albany, Auckland 0632, New Zealand & $\\dots$ \\\\\n",
       "\t5 & 94acaf9123deaa54c819b9667e5a1d1864daf806 & Auckland International College & 37 Heaphy St, Blockhouse Bay, Auckland 0600, New Zealand & $\\dots$ \\\\\n",
       "\t6 & 84d63852fd74de6f83111dfa5be2ce3a342ede8c & St Cuthbert's College & 122 Market Rd, Epsom, Auckland 1051, New Zealand & $\\dots$ \\\\\n",
       "\t7 & 52594f5afb3c0b057ce630de718e101a132c7e42 & Ficino School & 27 Esplanade Rd, Mount Eden, Auckland 1024, New Zealand & $\\dots$ \\\\\n",
       "\t8 & 74c7157610d87ce2ced2941593e78cfad34bbeb9 & Somerville Intermediate School & 39 Somerville Rd, Somerville, Auckland 2014, New Zealand & $\\dots$ \\\\\n",
       "\t9 & a0e268c7bf3e0bcf146f3f16d77ed710ab6eaf03 & King's School & 258 Remuera Road, Remuera, Auckland 1050, New Zealand & $\\dots$ \\\\\n",
       "\t10 & 29f5175a344711167e230772dc8b31be543bc00b & Auckland Grammar School & 55-87 Mountain Rd, Epsom, Auckland 1023, New Zealand & $\\dots$ \\\\\n",
       "\t11 & c492f2e419c98ff3631d29c3b4b2a3b4fa78137a & Henderson High School & 21 Henderson Valley Rd, Henderson, Auckland 0612, New Zealand & $\\dots$ \\\\\n",
       "\t12 & 584ec64f1f6c9961af76f5c96fec4450b7357b81 & St Marys College & 11 New St, St Marys Bay, Auckland 1011, New Zealand & $\\dots$ \\\\\n",
       "\t13 & d79978515f3ed6b13fa287e5a81c6151ac5adff2 & Saint Kentigern Girls' School & 514 Remuera Rd, Remuera, Auckland 1050, New Zealand & $\\dots$ \\\\\n",
       "\t14 & faaff875b1b34317f8c16f9acbb31ae815e3105e & Balmoral School & 19 Brixton Rd, Mount Eden, Auckland 1024, New Zealand & $\\dots$ \\\\\n",
       "\t15 & 0eba29633cfba6293a4e901d195af24cdbefd3b9 & Ormiston Senior College & 275 Ormiston Rd, Manukau, Auckland 2016, New Zealand & $\\dots$ \\\\\n",
       "\t16 & b1d12c4306c0229495c2042d01128930d17d347d & Albany Junior High School & 19 Appleby Rd, Albany, Auckland 0632, New Zealand & $\\dots$ \\\\\n",
       "\t17 & 6816e7ad2a99e6c30d8ea34b7e1ae5e4ecabb9bb & St Peter\\textbackslash{}x92s College & 23 Mountain Rd, Grafton, Auckland 1023, New Zealand & $\\dots$ \\\\\n",
       "\t18 & 306505c58091d5ae41116faddbc94d02a89bad00 & Michael Park School & 55 Amy St, Ellerslie, Auckland 1051, New Zealand & $\\dots$ \\\\\n",
       "\t19 & 765d4b3f95deb38b0b8e470cf50e4e2f9d8416bc & Carmel College & 108 Shakespeare Rd, Milford, Auckland 0620, New Zealand & $\\dots$ \\\\\n",
       "\t20 & 7c4451106ed954024a904dff15c20e5c8310ec19 & Freemans Bay School & 95 Wellington St, Freemans Bay, Auckland 1011, New Zealand & $\\dots$ \\\\\n",
       "\t21 & 4f67a9048aec108a6642acd812a9e6d0ff6f1232 & Titirangi Rudolf Steiner School & 5 Helios Pl, Titirangi, Auckland 0604, New Zealand & $\\dots$ \\\\\n",
       "\t22 & 28e2bc6a74b1fbc8855ca0258769a129ef99fa7f & Kristin School & 360 Albany Hwy, Albany, Auckland 0632, New Zealand & $\\dots$ \\\\\n",
       "\t23 & bcd4b484a359bf83a2bc5cefdd2dc8d79155a8c2 & Diocesan School for Girls & Clyde St, Epsom, Auckland 1051, New Zealand & $\\dots$ \\\\\n",
       "\t24 & b619a9b54c9702ef2d61e5505dfe364b0c1d40ca & Albany Senior High School & 536 Albany Hwy, Albany, Auckland 0632, New Zealand & $\\dots$ \\\\\n",
       "\t25 & 94acaf9123deaa54c819b9667e5a1d1864daf806 & Auckland International College & 37 Heaphy St, Blockhouse Bay, Auckland 0600, New Zealand & $\\dots$ \\\\\n",
       "\t26 & 84d63852fd74de6f83111dfa5be2ce3a342ede8c & St Cuthbert's College & 122 Market Rd, Epsom, Auckland 1051, New Zealand & $\\dots$ \\\\\n",
       "\t27 & 52594f5afb3c0b057ce630de718e101a132c7e42 & Ficino School & 27 Esplanade Rd, Mount Eden, Auckland 1024, New Zealand & $\\dots$ \\\\\n",
       "\t28 & 74c7157610d87ce2ced2941593e78cfad34bbeb9 & Somerville Intermediate School & 39 Somerville Rd, Somerville, Auckland 2014, New Zealand & $\\dots$ \\\\\n",
       "\t29 & a0e268c7bf3e0bcf146f3f16d77ed710ab6eaf03 & King's School & 258 Remuera Road, Remuera, Auckland 1050, New Zealand & $\\dots$ \\\\\n",
       "\t30 & 29f5175a344711167e230772dc8b31be543bc00b & Auckland Grammar School & 55-87 Mountain Rd, Epsom, Auckland 1023, New Zealand & $\\dots$ \\\\\n",
       "\t$\\dots$ & $\\dots$ & $\\dots$ & $\\dots$ &  \\\\\n",
       "\\end{tabular}\n"
      ],
      "text/plain": [
       "900×8 DataFrame. Omitted printing of 7 columns\n",
       "│ Row │ school_id                                │\n",
       "│     │ \u001b[90mUnion{Missing, String}\u001b[39m                   │\n",
       "├─────┼──────────────────────────────────────────┤\n",
       "│ 1   │ 4f67a9048aec108a6642acd812a9e6d0ff6f1232 │\n",
       "│ 2   │ 28e2bc6a74b1fbc8855ca0258769a129ef99fa7f │\n",
       "│ 3   │ bcd4b484a359bf83a2bc5cefdd2dc8d79155a8c2 │\n",
       "│ 4   │ b619a9b54c9702ef2d61e5505dfe364b0c1d40ca │\n",
       "│ 5   │ 94acaf9123deaa54c819b9667e5a1d1864daf806 │\n",
       "│ 6   │ 84d63852fd74de6f83111dfa5be2ce3a342ede8c │\n",
       "│ 7   │ 52594f5afb3c0b057ce630de718e101a132c7e42 │\n",
       "│ 8   │ 74c7157610d87ce2ced2941593e78cfad34bbeb9 │\n",
       "│ 9   │ a0e268c7bf3e0bcf146f3f16d77ed710ab6eaf03 │\n",
       "│ 10  │ 29f5175a344711167e230772dc8b31be543bc00b │\n",
       "⋮\n",
       "│ 890 │ 55d2780497c0e2224f890d50ab52f515ea27e9e4 │\n",
       "│ 891 │ 0513347fdb39875667af8ca5947eccc67bdd400b │\n",
       "│ 892 │ 3ec0b2b2c5a9f1bf20554ded4d53d1858438bb2b │\n",
       "│ 893 │ f0bc5c2779babf7e80d80de4b7145ac904c9d7dc │\n",
       "│ 894 │ ade5942865d0a76deb5cc38b32196af342a9dc16 │\n",
       "│ 895 │ bce34858b4a8397e8de25841666eac9005f184e6 │\n",
       "│ 896 │ a0aadcb5eca6e2945890f3dcd3fa8dade29196d8 │\n",
       "│ 897 │ 910289ac230fbdca2fbf94a3e9e5beb21ad8d041 │\n",
       "│ 898 │ 2cb6e133c06541b02dfb776400d99eab3af5dd72 │\n",
       "│ 899 │ d72f4c4ce56d1db3e06e16cc24c0b9a99249dd46 │\n",
       "│ 900 │ 47fa8ce80a2d1e2c96d4291c54ceec128ee0848e │"
      ]
     },
     "execution_count": 34,
     "metadata": {},
     "output_type": "execute_result"
    }
   ],
   "source": [
    "permutecols!(schools_df,[:school_id,:school_name,:school_address,:city,:school_latitude,:school_longitude,:rating,:user_ratings_total])"
   ]
  },
  {
   "cell_type": "code",
   "execution_count": 35,
   "metadata": {},
   "outputs": [
    {
     "data": {
      "text/plain": [
       "8-element Array{Symbol,1}:\n",
       " :school_id         \n",
       " :school_name       \n",
       " :school_address    \n",
       " :city              \n",
       " :school_latitude   \n",
       " :school_longitude  \n",
       " :rating            \n",
       " :user_ratings_total"
      ]
     },
     "execution_count": 35,
     "metadata": {},
     "output_type": "execute_result"
    }
   ],
   "source": [
    "names(schools_df)"
   ]
  },
  {
   "cell_type": "code",
   "execution_count": 36,
   "metadata": {
    "collapsed": true,
    "jupyter": {
     "outputs_hidden": true
    }
   },
   "outputs": [
    {
     "data": {
      "text/html": [
       "<table class=\"data-frame\"><thead><tr><th></th><th>hospital_id</th><th>hospital_name</th></tr><tr><th></th><th>String⍰</th><th>String⍰</th></tr></thead><tbody><p>501 rows × 8 columns (omitted printing of 6 columns)</p><tr><th>1</th><td>d45b1ed4d3812d789860e32d9dafe17b55af1ac4</td><td>Middlemore Hospital</td></tr><tr><th>2</th><td>9a072bd8f166c488941e3e64a8ca365eb974c5ea</td><td>Auckland Hospital</td></tr><tr><th>3</th><td>8d4514d35725535d84292b82c7e17c4f7629e46b</td><td>North Shore Hospital</td></tr><tr><th>4</th><td>53332f5498eb9e5a9d7675711ec4277adb1bfb2a</td><td>Greenlane Clinical Centre</td></tr><tr><th>5</th><td>116d828ef5aace28919d0a831034914e284ff4b0</td><td>Waitakere Hospital</td></tr><tr><th>6</th><td>611ddfbbc4049014df64392f238224245eeea148</td><td>MercyAscot Epsom, Mercy Hospital</td></tr><tr><th>7</th><td>81031f2a94d066d5887a80233e28252355e3b6c7</td><td>Auckland District Health Board</td></tr><tr><th>8</th><td>21d0021e4bc6e87ec58cbe7844417a15d82cf6d7</td><td>Kidz First, Middlemore Hospital</td></tr><tr><th>9</th><td>719decd52fdcc0e90ece7100e019cfa52b349a8d</td><td>Birthcare Auckland</td></tr><tr><th>10</th><td>c4925ee648daad4febd7ced8061e38c65129dea3</td><td>Ormiston Hospital</td></tr><tr><th>11</th><td>16410b103060c1395bc94db386bf218f01296463</td><td>Ascot Hospital</td></tr><tr><th>12</th><td>b46a6494a1d7209a5a35f9339822e36ff35d8680</td><td>Manukau Superclinic</td></tr><tr><th>13</th><td>9d23ad6bd8ffcbc1cc4e5120dc26ccc99bee89f3</td><td>Cornwall Complex Greenlane Clinical Centre</td></tr><tr><th>14</th><td>d262a199b2f52611f72571fb4fb69b4e5af7f668</td><td>District Nursing Clinic - Building 17</td></tr><tr><th>15</th><td>3a8308f88357844df79dd37065c1a25f1bfe796d</td><td>Hillcrest Hospital</td></tr><tr><th>16</th><td>9f5ec9e53e130e16941f52fa4be8e593ef48ac5a</td><td>Carnarvon Private Hospital</td></tr><tr><th>17</th><td>5c4aaeeeaf67f6e57bf7f01496377e4c81c37d49</td><td>Middlemore Hospital, Auckland</td></tr><tr><th>18</th><td>013a5c6d2acaf821034ad3a2541789924c94637c</td><td>Eversleigh Hospital</td></tr><tr><th>19</th><td>267de8a4f25b16ef8047f6c46ad7d18a42bb7184</td><td>Botany SuperClinic\\x99 PUBLIC HOSPITAL</td></tr><tr><th>20</th><td>84be1eca4bc4cfe07b76ff0132a9dc3b388646d5</td><td>Mercy Parklands</td></tr><tr><th>21</th><td>9651e534d9e4188940a5cf4d89a0d406dc245226</td><td>Auckland Radiation Oncology</td></tr><tr><th>22</th><td>f285a5f3de495edea0bf99dc1975181c6c29b69d</td><td>Women's Assessment Unit</td></tr><tr><th>23</th><td>6e82b66ae553e2a46eba325b7df3053e27d3f8ff</td><td>Remuera Rest Home &amp; Hospital</td></tr><tr><th>24</th><td>9338884455aebc841406a9a8deffef5f29f2925a</td><td>Lexall Care</td></tr><tr><th>25</th><td>ceb75c79025b39e1a530b9f6d58d7d5f978c4191</td><td>Sarah selwyn</td></tr><tr><th>26</th><td>36f1bb65f7a41ef917f8d2620ac633dc8a66eb6a</td><td>Ranfurly Hospital</td></tr><tr><th>27</th><td>9d4bbd8526457bd906c62545875b8d850a228997</td><td>Fraser Mcdonald Unit</td></tr><tr><th>28</th><td>73856427aad0a4fb2e6f8720c7c16301c871d935</td><td>Dialysis Unit</td></tr><tr><th>29</th><td>8165fa169d3f8b8e5fb9330a27b0d1539782b7dc</td><td>Waimarino - WDHB District Mental Health Services</td></tr><tr><th>30</th><td>e38e281ba48d54fb2f247968bf2fe60c4c57130d</td><td>NZ Respiratory &amp; Sleep Institute</td></tr><tr><th>&vellip;</th><td>&vellip;</td><td>&vellip;</td></tr></tbody></table>"
      ],
      "text/latex": [
       "\\begin{tabular}{r|ccc}\n",
       "\t& hospital\\_id & hospital\\_name & \\\\\n",
       "\t\\hline\n",
       "\t& String⍰ & String⍰ & \\\\\n",
       "\t\\hline\n",
       "\t1 & d45b1ed4d3812d789860e32d9dafe17b55af1ac4 & Middlemore Hospital & $\\dots$ \\\\\n",
       "\t2 & 9a072bd8f166c488941e3e64a8ca365eb974c5ea & Auckland Hospital & $\\dots$ \\\\\n",
       "\t3 & 8d4514d35725535d84292b82c7e17c4f7629e46b & North Shore Hospital & $\\dots$ \\\\\n",
       "\t4 & 53332f5498eb9e5a9d7675711ec4277adb1bfb2a & Greenlane Clinical Centre & $\\dots$ \\\\\n",
       "\t5 & 116d828ef5aace28919d0a831034914e284ff4b0 & Waitakere Hospital & $\\dots$ \\\\\n",
       "\t6 & 611ddfbbc4049014df64392f238224245eeea148 & MercyAscot Epsom, Mercy Hospital & $\\dots$ \\\\\n",
       "\t7 & 81031f2a94d066d5887a80233e28252355e3b6c7 & Auckland District Health Board & $\\dots$ \\\\\n",
       "\t8 & 21d0021e4bc6e87ec58cbe7844417a15d82cf6d7 & Kidz First, Middlemore Hospital & $\\dots$ \\\\\n",
       "\t9 & 719decd52fdcc0e90ece7100e019cfa52b349a8d & Birthcare Auckland & $\\dots$ \\\\\n",
       "\t10 & c4925ee648daad4febd7ced8061e38c65129dea3 & Ormiston Hospital & $\\dots$ \\\\\n",
       "\t11 & 16410b103060c1395bc94db386bf218f01296463 & Ascot Hospital & $\\dots$ \\\\\n",
       "\t12 & b46a6494a1d7209a5a35f9339822e36ff35d8680 & Manukau Superclinic & $\\dots$ \\\\\n",
       "\t13 & 9d23ad6bd8ffcbc1cc4e5120dc26ccc99bee89f3 & Cornwall Complex Greenlane Clinical Centre & $\\dots$ \\\\\n",
       "\t14 & d262a199b2f52611f72571fb4fb69b4e5af7f668 & District Nursing Clinic - Building 17 & $\\dots$ \\\\\n",
       "\t15 & 3a8308f88357844df79dd37065c1a25f1bfe796d & Hillcrest Hospital & $\\dots$ \\\\\n",
       "\t16 & 9f5ec9e53e130e16941f52fa4be8e593ef48ac5a & Carnarvon Private Hospital & $\\dots$ \\\\\n",
       "\t17 & 5c4aaeeeaf67f6e57bf7f01496377e4c81c37d49 & Middlemore Hospital, Auckland & $\\dots$ \\\\\n",
       "\t18 & 013a5c6d2acaf821034ad3a2541789924c94637c & Eversleigh Hospital & $\\dots$ \\\\\n",
       "\t19 & 267de8a4f25b16ef8047f6c46ad7d18a42bb7184 & Botany SuperClinic\\textbackslash{}x99 PUBLIC HOSPITAL & $\\dots$ \\\\\n",
       "\t20 & 84be1eca4bc4cfe07b76ff0132a9dc3b388646d5 & Mercy Parklands & $\\dots$ \\\\\n",
       "\t21 & 9651e534d9e4188940a5cf4d89a0d406dc245226 & Auckland Radiation Oncology & $\\dots$ \\\\\n",
       "\t22 & f285a5f3de495edea0bf99dc1975181c6c29b69d & Women's Assessment Unit & $\\dots$ \\\\\n",
       "\t23 & 6e82b66ae553e2a46eba325b7df3053e27d3f8ff & Remuera Rest Home \\& Hospital & $\\dots$ \\\\\n",
       "\t24 & 9338884455aebc841406a9a8deffef5f29f2925a & Lexall Care & $\\dots$ \\\\\n",
       "\t25 & ceb75c79025b39e1a530b9f6d58d7d5f978c4191 & Sarah selwyn & $\\dots$ \\\\\n",
       "\t26 & 36f1bb65f7a41ef917f8d2620ac633dc8a66eb6a & Ranfurly Hospital & $\\dots$ \\\\\n",
       "\t27 & 9d4bbd8526457bd906c62545875b8d850a228997 & Fraser Mcdonald Unit & $\\dots$ \\\\\n",
       "\t28 & 73856427aad0a4fb2e6f8720c7c16301c871d935 & Dialysis Unit & $\\dots$ \\\\\n",
       "\t29 & 8165fa169d3f8b8e5fb9330a27b0d1539782b7dc & Waimarino - WDHB District Mental Health Services & $\\dots$ \\\\\n",
       "\t30 & e38e281ba48d54fb2f247968bf2fe60c4c57130d & NZ Respiratory \\& Sleep Institute & $\\dots$ \\\\\n",
       "\t$\\dots$ & $\\dots$ & $\\dots$ &  \\\\\n",
       "\\end{tabular}\n"
      ],
      "text/plain": [
       "501×8 DataFrame. Omitted printing of 7 columns\n",
       "│ Row │ hospital_id                              │\n",
       "│     │ \u001b[90mUnion{Missing, String}\u001b[39m                   │\n",
       "├─────┼──────────────────────────────────────────┤\n",
       "│ 1   │ d45b1ed4d3812d789860e32d9dafe17b55af1ac4 │\n",
       "│ 2   │ 9a072bd8f166c488941e3e64a8ca365eb974c5ea │\n",
       "│ 3   │ 8d4514d35725535d84292b82c7e17c4f7629e46b │\n",
       "│ 4   │ 53332f5498eb9e5a9d7675711ec4277adb1bfb2a │\n",
       "│ 5   │ 116d828ef5aace28919d0a831034914e284ff4b0 │\n",
       "│ 6   │ 611ddfbbc4049014df64392f238224245eeea148 │\n",
       "│ 7   │ 81031f2a94d066d5887a80233e28252355e3b6c7 │\n",
       "│ 8   │ 21d0021e4bc6e87ec58cbe7844417a15d82cf6d7 │\n",
       "│ 9   │ 719decd52fdcc0e90ece7100e019cfa52b349a8d │\n",
       "│ 10  │ c4925ee648daad4febd7ced8061e38c65129dea3 │\n",
       "⋮\n",
       "│ 491 │ d4658ae5436566818f6fd4edfabe85200d9c82e3 │\n",
       "│ 492 │ d083ae7cf3b3a9e263436e5eabc25e0424f4603f │\n",
       "│ 493 │ aabbc0b1a38077985b512f10ab548b0d07c17567 │\n",
       "│ 494 │ 0b188089de53c3871a4f2ad259b31d8f45d00bea │\n",
       "│ 495 │ a394729d76d2a2877d48e0c32b25ac77fe1c0caf │\n",
       "│ 496 │ a01bc719253b5b3f646c7be79efa3fa20740fe78 │\n",
       "│ 497 │ 94fccd7eccfaa43bfaae53081ecc91dd4e26d70a │\n",
       "│ 498 │ 5afb86025eb2f76039b0a859247cb07642b4e91c │\n",
       "│ 499 │ bd79ca7ab60d54f1ac2e320d9c1626ef26208762 │\n",
       "│ 500 │ a3540c09241dd15af23324db368db872f4ea25e4 │\n",
       "│ 501 │ 2ca761539027eb11f577fd5c067a55776e4ae52c │"
      ]
     },
     "execution_count": 36,
     "metadata": {},
     "output_type": "execute_result"
    }
   ],
   "source": [
    "permutecols!(hospital_df,[:hospital_id,:hospital_name,:hospital_address,:city,:hospital_latitude,:hospital_longitude,:rating,:user_ratings_total])"
   ]
  },
  {
   "cell_type": "code",
   "execution_count": 37,
   "metadata": {},
   "outputs": [
    {
     "data": {
      "text/plain": [
       "8-element Array{Symbol,1}:\n",
       " :hospital_id       \n",
       " :hospital_name     \n",
       " :hospital_address  \n",
       " :city              \n",
       " :hospital_latitude \n",
       " :hospital_longitude\n",
       " :rating            \n",
       " :user_ratings_total"
      ]
     },
     "execution_count": 37,
     "metadata": {},
     "output_type": "execute_result"
    }
   ],
   "source": [
    "names(hospital_df)"
   ]
  },
  {
   "cell_type": "code",
   "execution_count": 38,
   "metadata": {},
   "outputs": [
    {
     "data": {
      "text/plain": [
       "\"schools_df.csv\""
      ]
     },
     "execution_count": 38,
     "metadata": {},
     "output_type": "execute_result"
    }
   ],
   "source": [
    "CSV.write(\"schools_df.csv\",schools_df)"
   ]
  },
  {
   "cell_type": "code",
   "execution_count": 39,
   "metadata": {},
   "outputs": [
    {
     "data": {
      "text/plain": [
       "\"hospital_df.csv\""
      ]
     },
     "execution_count": 39,
     "metadata": {},
     "output_type": "execute_result"
    }
   ],
   "source": [
    "CSV.write(\"hospital_df.csv\",hospital_df)"
   ]
  },
  {
   "cell_type": "code",
   "execution_count": null,
   "metadata": {},
   "outputs": [],
   "source": []
  }
 ],
 "metadata": {
  "kernelspec": {
   "display_name": "Julia 1.1.1",
   "language": "julia",
   "name": "julia-1.1"
  },
  "language_info": {
   "file_extension": ".jl",
   "mimetype": "application/julia",
   "name": "julia",
   "version": "1.1.1"
  }
 },
 "nbformat": 4,
 "nbformat_minor": 4
}
