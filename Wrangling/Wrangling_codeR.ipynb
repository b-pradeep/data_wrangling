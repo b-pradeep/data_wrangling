{
 "cells": [
  {
   "cell_type": "markdown",
   "metadata": {},
   "source": [
    "## Wrangling Code  - The following code is constrcuted on the combined data from the Julia output"
   ]
  },
  {
   "cell_type": "markdown",
   "metadata": {},
   "source": [
    "## Summary of what is inside :\n",
    "\n",
    "#### ->The Duplicate entries removed \n",
    "\n",
    "#### ->removal of unwanted data inside using pattern expressions\n",
    "\n",
    "#### ->Distance claculation\n",
    "\n",
    "#### ->Filter out only first 3 distance"
   ]
  },
  {
   "cell_type": "code",
   "execution_count": null,
   "metadata": {},
   "outputs": [],
   "source": [
    "#library\n",
    "library(tibble)\n",
    "library(dplyr)\n",
    "library(tidyverse)\n",
    "library(jsonlite)\n",
    "library(stringr)\n",
    "library(lubridate)\n",
    "library(DataCombine)\n",
    "library(SDMTools)\n",
    "library(rgeos)\n",
    "library(maptools)"
   ]
  },
  {
   "cell_type": "markdown",
   "metadata": {},
   "source": [
    "### The data loaded is the output from Julia "
   ]
  },
  {
   "cell_type": "code",
   "execution_count": null,
   "metadata": {},
   "outputs": [],
   "source": [
    "#Load Data\n",
    "Schools <- read.csv(\"school_data.csv\")\n",
    "Hospital <- read.csv(\"hospital_data.csv\")\n",
    "\n",
    "#remove Duplicates if at all missed in the extrcation\n",
    "Hospital <- Hospital[!duplicated(Hospital$name), ]\n",
    "\n",
    "Schools <- Schools[!duplicated(Schools$name), ]\n"
   ]
  },
  {
   "cell_type": "markdown",
   "metadata": {},
   "source": [
    "#### The Duplicates are removed just so to deleted any redendunt values that where missed during extraction"
   ]
  },
  {
   "cell_type": "code",
   "execution_count": null,
   "metadata": {},
   "outputs": [],
   "source": [
    "#patterns of word removal\n",
    "#School - pattern\n",
    "ptn = '^Eye.*?'\n",
    "#Train\n",
    "#center\n",
    "##care\n",
    "#Institute\n",
    "#Dental\n",
    "#Studio -147\n",
    "#tech\n",
    "#training\n",
    "#Health\n",
    "#Life Coach\n",
    "#, Art Soc. rooms.\n",
    "# Commercial Pilot Academy\n",
    "#NZ Modern School of Music - Hawkes Bay\n",
    "#Swim\n",
    "#Taradale dirt park & pump track\n",
    "#club\n",
    "##Centre\n",
    "#company\n",
    "# Dance\n",
    "#Aquatic\n",
    "#Art Works\n",
    "#Tuition\n",
    "#ETC - English Language School in New Zealand\n",
    "#School of\n",
    "#Review\n",
    "#Arts\n",
    "ndx = grep(\"Centre+\", Schools$name, perl = T)\n",
    "selected_rows = Schools[ndx, ]\n",
    "Schools <- Schools[-ndx, ]\n",
    "\n",
    "#Hospital\n",
    "\n",
    "\n",
    "#Eye\n",
    "#Home\n",
    "#train\n",
    "#Cancer\n",
    "#oncology\n",
    "#Rehab\n",
    "#Respiratory\n",
    "#Endosopy\n",
    "#Dental\n",
    "#Service\n",
    "#Distribution\n",
    "#carpark\n",
    "#Cycle\n",
    "#spa\n",
    "#Wellness\n",
    "#Retirement\n",
    "# Store\n",
    "#Station\n",
    "#board\n",
    "#Planning\n",
    "#Cycle\n",
    "#Village\n",
    "#Christchurch Pain Managment\n",
    "#Forensic\n",
    "#Christchurch Methadone Program\n",
    "#Drug\n",
    "ndx = grep(\"Drug+\", Hospital$name, perl = T)\n",
    "selected_rows = Hospital[ndx, ]\n",
    "Hospital <- Hospital[-ndx, ]\n",
    "Hospital <- Hospital %>% select(-X)\n"
   ]
  },
  {
   "cell_type": "markdown",
   "metadata": {},
   "source": [
    "Each the dataframes has few \"unwanted\" data in them hence grep was used to remove any and all of the pattens matched"
   ]
  },
  {
   "cell_type": "code",
   "execution_count": null,
   "metadata": {},
   "outputs": [],
   "source": [
    "#check schools list :\n",
    "\n",
    "gov_data<-read.csv(\"gov_data_schools.csv\")\n",
    "common_Schools<-merge(x = Schools,y=gov_data,by.x =\"school_name\",by.y=\"Org.Name\")\n"
   ]
  },
  {
   "cell_type": "markdown",
   "metadata": {},
   "source": [
    "#### This was used only for the purpose of checking how many of the schools extracted are in govenrment data.\n",
    "#### Due to the reason there are no common filed to join except for name which might not be unique and  the data is not joined.\n"
   ]
  },
  {
   "cell_type": "code",
   "execution_count": null,
   "metadata": {},
   "outputs": [],
   "source": [
    "\n",
    "#write the data to folder\n",
    "write.csv(Hospital, \"clean_hospital.csv\", row.names = FALSE)\n",
    "write.csv(Schools, \"clean_schools.csv\", row.names = FALSE)\n"
   ]
  },
  {
   "cell_type": "code",
   "execution_count": null,
   "metadata": {},
   "outputs": [],
   "source": [
    "######DISTANCE ############\n",
    "\n",
    "Hospital$name<-as.character(Hospital$hospital_name)\n",
    "Schools$name<-as.character(Schools$school_name)\n",
    "Hospital$city<-as.character(Hospital$city)\n",
    "Schools$city<-as.character(Schools$city)\n"
   ]
  },
  {
   "cell_type": "code",
   "execution_count": 2,
   "metadata": {},
   "outputs": [],
   "source": [
    "#the below function calculated the distance between 2 given latitude and longitude and stores it in to new dataframe\n",
    "\n",
    "shortes_3 <- data.frame()\n",
    "sorted_distance <- data.frame()\n",
    "shortes_dis <- data.frame()\n",
    "distance_cacl<-function(Schools,Hospitals){\n",
    "    for (i in 1:nrow(Schools)) {\n",
    "      city_val <- Schools[i, ]$city\n",
    "      print(Schools[i, ]$name)\n",
    "      city_vise <- Hospital %>% filter(city == city_val)\n",
    "        for (j in 1:nrow(city_vise)) {\n",
    "            Vincenty <-\n",
    "          distance(\n",
    "            lat1 = Schools[i, ]$lat,\n",
    "            lon1 = Schools[i, ]$long,\n",
    "            lat2 = city_vise[j, ]$lat,\n",
    "            lon2 = city_vise[j, ]$long\n",
    "              )\n",
    "        DirectDistance <- as.numeric(Vincenty[5])\n",
    "        distance <- DirectDistance / 1000\n",
    "        if (distance < 5) {\n",
    "          df <-\n",
    "            data.frame(\n",
    "              school = as.character(Schools[i, ]$name),\n",
    "              distance = distance,\n",
    "              hospital = as.character(Hospital[j, ]$name),\n",
    "              school_lat = Schools[i, ]$lat,\n",
    "              school_long = Schools[i, ]$long,\n",
    "              city = city_val\n",
    "            )\n",
    "          if (nrow(shortes_dis) == 0) {\n",
    "            shortes_dis <- df\n",
    "            }\n",
    "          else{\n",
    "            shortes_dis <- InsertRow(shortes_dis, NewRow = df)}\n",
    "    }\n",
    "        else{\n",
    "          print(Schools[i, ]$name)} }\n",
    "  \n",
    "      sorted_distance <- shortes_dis[order(shortes_dis$distance), ]\n",
    "      #the following snippet of code picks only the first 3 sorted entries of data and stores it into a \n",
    "        #dataframe as the loop progresses \n",
    "        if (nrow(shortes_3) == 0) {\n",
    "        shortes_3 <- (sorted_distance[1:3, ])\n",
    "      }\n",
    "      else{\n",
    "        shortes_3 <- InsertRow(shortes_3, sorted_distance[1:3, ])\n",
    "      }\n",
    "      shortes_dis <- shortes_dis[0, ]\n",
    "      sorted_distance <- sorted_distance[0, ]}\n",
    "}\n"
   ]
  },
  {
   "cell_type": "code",
   "execution_count": null,
   "metadata": {},
   "outputs": [],
   "source": [
    "#create a row number for easy iteration\n",
    "distance_df<- shortes_3 %>% mutate(id = row_number())"
   ]
  },
  {
   "cell_type": "code",
   "execution_count": null,
   "metadata": {},
   "outputs": [],
   "source": [
    "#remove the unnecessary null values got while calcualting distance.\n",
    "count(is.na(distance_df$school))\n",
    "\n",
    "clean_distance_df<-distance_df[complete.cases(distance_df$school),]\n"
   ]
  },
  {
   "cell_type": "code",
   "execution_count": null,
   "metadata": {},
   "outputs": [],
   "source": [
    "write.csv(clean_distance_df,\"clean_shortest_distance.csv\",row.names =  FALSE)"
   ]
  }
 ],
 "metadata": {
  "kernelspec": {
   "display_name": "R",
   "language": "R",
   "name": "ir"
  },
  "language_info": {
   "codemirror_mode": "r",
   "file_extension": ".r",
   "mimetype": "text/x-r-source",
   "name": "R",
   "pygments_lexer": "r",
   "version": "3.6.0"
  }
 },
 "nbformat": 4,
 "nbformat_minor": 2
}
