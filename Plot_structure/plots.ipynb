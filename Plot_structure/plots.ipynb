{
 "cells": [
  {
   "cell_type": "markdown",
   "metadata": {},
   "source": [
    "### The following codes are done for EDA and Geomap plotting before shiny intefration"
   ]
  },
  {
   "cell_type": "markdown",
   "metadata": {},
   "source": [
    "#### Loading the necessary libraries"
   ]
  },
  {
   "cell_type": "code",
   "execution_count": null,
   "metadata": {},
   "outputs": [],
   "source": [
    "library(ggplot2)\n",
    "library(ggmap)\n",
    "library(maps)\n",
    "library(mapdata)\n",
    "library(dplyr)\n",
    "library(plotly)"
   ]
  },
  {
   "cell_type": "code",
   "execution_count": null,
   "metadata": {},
   "outputs": [],
   "source": [
    "#reading the csv files\n",
    "Schools <- read.csv(\"clean_schools.csv\")\n",
    "Hospital <- read.csv(\"clean_hospital.csv\")\n",
    "shortest_route <- read.csv(\"clean_shortest_distance.csv\")"
   ]
  },
  {
   "cell_type": "markdown",
   "metadata": {},
   "source": [
    "### Barchart shows the number of schools in each region across New Zealand"
   ]
  },
  {
   "cell_type": "code",
   "execution_count": null,
   "metadata": {},
   "outputs": [],
   "source": [
    "table <- table(school_data$city)\n",
    "df <- data.frame(table)\n",
    "bar_plot <- ggplot(df, aes(x = reorder(Var1, -Freq), y = Freq))\n",
    "bar_plot <- bar_plot + geom_bar(stat=\"identity\", color='skyblue',fill='steelblue')\n",
    "bar_plot <- bar_plot + theme(axis.text.x=element_text(angle=45, hjust=1)) + geom_text(aes(label=Freq), vjust=-1)+ggtitle(\"Number of Schools across each Region\")\n",
    "bar_plot"
   ]
  },
  {
   "cell_type": "markdown",
   "metadata": {},
   "source": [
    "### Barplot shows the number of hospitals in each region across New Zealand"
   ]
  },
  {
   "cell_type": "code",
   "execution_count": null,
   "metadata": {},
   "outputs": [],
   "source": [
    "h_table <- table(hospital_data$city)\n",
    "df <- data.frame(h_table)\n",
    "bar_plot <- ggplot(df, aes(x = reorder(Var1, -Freq), y = Freq))\n",
    "bar_plot <- bar_plot + geom_bar(stat=\"identity\", color='skyblue',fill='steelblue')\n",
    "bar_plot <- bar_plot + theme(axis.text.x=element_text(angle=45, hjust=1)) + geom_text(aes(label=Freq), vjust=-1)+ggtitle(\"Number of Hospitals across each Region\")\n",
    "bar_plot\n"
   ]
  },
  {
   "cell_type": "markdown",
   "metadata": {},
   "source": [
    "### Grouping the schools according to the ratings in differet regions across New Zealand"
   ]
  },
  {
   "cell_type": "code",
   "execution_count": null,
   "metadata": {},
   "outputs": [],
   "source": [
    "school_data %>%\n",
    "  group_by(city,numeric_rating) %>%\n",
    "  summarize(total_schools=n_distinct(ID)) %>%\n",
    "  ggplot(aes(x=city, y=total_schools,fill=numeric_rating)) +\n",
    "  geom_bar(stat=\"identity\", position=\"dodge\")+\n",
    "  ggtitle(\"Grouping schools according to ratings across each region\") +\n",
    "  xlab(\"City\") + ylab(\"Number of Schools\")+\n",
    "  theme(plot.title = element_text(hjust = 0.5), panel.background = element_blank(),axis.text.x = element_text(angle = 45, hjust = 1))\n"
   ]
  },
  {
   "cell_type": "markdown",
   "metadata": {},
   "source": [
    "### Grouping the Hospitals in a bar chart according to the ratings in differet regions across New Zealand"
   ]
  },
  {
   "cell_type": "code",
   "execution_count": null,
   "metadata": {},
   "outputs": [],
   "source": [
    "hospital_data %>%\n",
    "  group_by(city,factor_rating) %>%\n",
    "  summarize(total_hospitals=n_distinct(ID)) %>%\n",
    "  ggplot(aes(x=city, y=total_hospitals,fill=factor_rating)) +\n",
    "  geom_bar(stat=\"identity\", position=\"dodge\")+\n",
    "  ggtitle(\"Grouping hospitals according to ratings across each region\") +\n",
    "  xlab(\"City\") + ylab(\"Number of hospitals\")+\n",
    "  theme(plot.title = element_text(hjust = 0.5), panel.background = element_blank(),axis.text.x = element_text(angle = 45, hjust = 1))\n"
   ]
  },
  {
   "cell_type": "code",
   "execution_count": null,
   "metadata": {},
   "outputs": [],
   "source": [
    "select_school<-Schools[47,]\n",
    "#selecting the school name and city name\n",
    "city_s<-as.character(select_school$city)\n",
    "school_name<-as.character(select_school$school_name)"
   ]
  },
  {
   "cell_type": "markdown",
   "metadata": {},
   "source": [
    "### Mapping the schools in R using leaflet() function"
   ]
  },
  {
   "cell_type": "code",
   "execution_count": null,
   "metadata": {},
   "outputs": [],
   "source": [
    "Schools%>% \n",
    "  leaflet() %>% \n",
    "  addTiles() %>% \n",
    "  addMarkers(clusterOption=markerClusterOptions())"
   ]
  },
  {
   "cell_type": "markdown",
   "metadata": {},
   "source": [
    "### Mapping the hospitals in R according to the schools being searched"
   ]
  },
  {
   "cell_type": "code",
   "execution_count": null,
   "metadata": {},
   "outputs": [],
   "source": [
    "Hospital_select%>% \n",
    "  leaflet() %>% \n",
    "  addTiles() %>% \n",
    "  addMarkers(lat = Hospital_select$school_lat,lng = Hospital_select$school_long)%>%\n",
    "  addTiles()%>%\n",
    "  addCircleMarkers(lng=Hospital_select$hospital_long, lat=Hospital_select$hospital_lat, popup=Hospital_select$hospital,fillColor=\"red\")\n"
   ]
  }
 ],
 "metadata": {
  "kernelspec": {
   "display_name": "R",
   "language": "R",
   "name": "ir"
  },
  "language_info": {
   "codemirror_mode": "r",
   "file_extension": ".r",
   "mimetype": "text/x-r-source",
   "name": "R",
   "pygments_lexer": "r",
   "version": "3.6.0"
  }
 },
 "nbformat": 4,
 "nbformat_minor": 2
}
